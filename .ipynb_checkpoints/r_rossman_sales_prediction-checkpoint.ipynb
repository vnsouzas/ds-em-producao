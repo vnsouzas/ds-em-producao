{
 "cells": [
  {
   "cell_type": "markdown",
   "id": "6e2e6a2b",
   "metadata": {},
   "source": [
    "# IMPORTS"
   ]
  },
  {
   "cell_type": "markdown",
   "id": "6b2cb1b1",
   "metadata": {},
   "source": [
    "## IMPORTS"
   ]
  },
  {
   "cell_type": "code",
   "execution_count": 326,
   "id": "c440d24b",
   "metadata": {},
   "outputs": [],
   "source": [
    "import pandas as pd\n",
    "import warnings\n",
    "from inflection import underscore\n",
    "from datetime import datetime, timedelta\n",
    "import matplotlib.pyplot as plt\n",
    "import seaborn as sns\n",
    "from sklearn.preprocessing import RobustScaler, MinMaxScaler, LabelEncoder\n",
    "from sklearn.ensemble import RandomForestRegressor\n",
    "import numpy as np\n",
    "from boruta import BorutaPy"
   ]
  },
  {
   "cell_type": "markdown",
   "id": "f022c2c9",
   "metadata": {},
   "source": [
    "## CONFIGURATION"
   ]
  },
  {
   "cell_type": "code",
   "execution_count": 292,
   "id": "66f5fd74",
   "metadata": {},
   "outputs": [],
   "source": [
    "warnings.filterwarnings('ignore')\n",
    "pd.set_option('display.float_format', lambda x: '%.5f' % x)\n",
    "pd.set_option('display.max_columns', 100)\n",
    "pd.set_option('display.max_rows', 100)"
   ]
  },
  {
   "cell_type": "markdown",
   "id": "18817471",
   "metadata": {
    "heading_collapsed": true
   },
   "source": [
    "## HELPER FUNCTIONS"
   ]
  },
  {
   "cell_type": "markdown",
   "id": "583a7ef4",
   "metadata": {},
   "source": [
    "## LOADING DATA"
   ]
  },
  {
   "cell_type": "code",
   "execution_count": 261,
   "id": "2e6f2f7a",
   "metadata": {},
   "outputs": [],
   "source": [
    "df_store = pd.read_csv('./datasets/store.csv', low_memory=False)\n",
    "df_train = pd.read_csv('./datasets/train.csv', low_memory=False)"
   ]
  },
  {
   "cell_type": "code",
   "execution_count": 262,
   "id": "b8e46b38",
   "metadata": {},
   "outputs": [],
   "source": [
    "df_raw = df_store.merge(df_train, how='left', on='Store')"
   ]
  },
  {
   "cell_type": "markdown",
   "id": "a1f2c12e",
   "metadata": {},
   "source": [
    "#  DATA DESCRIPTION"
   ]
  },
  {
   "cell_type": "markdown",
   "id": "608ca08e",
   "metadata": {},
   "source": [
    "## RENAME COLUMNS"
   ]
  },
  {
   "cell_type": "code",
   "execution_count": 263,
   "id": "f5dc9f17",
   "metadata": {},
   "outputs": [],
   "source": [
    "old_cols = df_raw.columns\n",
    "new_cols = [underscore(c) for c in old_cols]\n",
    "df_raw.columns = new_cols"
   ]
  },
  {
   "cell_type": "markdown",
   "id": "948a4d27",
   "metadata": {},
   "source": [
    "## DATA DIMENSIONS"
   ]
  },
  {
   "cell_type": "code",
   "execution_count": 264,
   "id": "3428689e",
   "metadata": {},
   "outputs": [
    {
     "name": "stdout",
     "output_type": "stream",
     "text": [
      "The dataset has 1017209 lines and 18 columns\n"
     ]
    }
   ],
   "source": [
    "print(f'The dataset has {df_raw.shape[0]} lines and {df_raw.shape[1]} columns')"
   ]
  },
  {
   "cell_type": "markdown",
   "id": "1cff01d4",
   "metadata": {},
   "source": [
    "## CHECK TYPES"
   ]
  },
  {
   "cell_type": "code",
   "execution_count": 265,
   "id": "fa589b00",
   "metadata": {},
   "outputs": [
    {
     "data": {
      "text/plain": [
       "store                             int64\n",
       "store_type                       object\n",
       "assortment                       object\n",
       "competition_distance            float64\n",
       "competition_open_since_month    float64\n",
       "competition_open_since_year     float64\n",
       "promo2                            int64\n",
       "promo2_since_week               float64\n",
       "promo2_since_year               float64\n",
       "promo_interval                   object\n",
       "day_of_week                       int64\n",
       "date                             object\n",
       "sales                             int64\n",
       "customers                         int64\n",
       "open                              int64\n",
       "promo                             int64\n",
       "state_holiday                    object\n",
       "school_holiday                    int64\n",
       "dtype: object"
      ]
     },
     "execution_count": 265,
     "metadata": {},
     "output_type": "execute_result"
    }
   ],
   "source": [
    "df_raw.dtypes"
   ]
  },
  {
   "cell_type": "markdown",
   "id": "4dfbfb8b",
   "metadata": {},
   "source": [
    "## CHECK NA VALUES"
   ]
  },
  {
   "cell_type": "code",
   "execution_count": 266,
   "id": "37c497ef",
   "metadata": {},
   "outputs": [
    {
     "data": {
      "text/plain": [
       "store                                0\n",
       "store_type                           0\n",
       "assortment                           0\n",
       "competition_distance              2642\n",
       "competition_open_since_month    323348\n",
       "competition_open_since_year     323348\n",
       "promo2                               0\n",
       "promo2_since_week               508031\n",
       "promo2_since_year               508031\n",
       "promo_interval                  508031\n",
       "day_of_week                          0\n",
       "date                                 0\n",
       "sales                                0\n",
       "customers                            0\n",
       "open                                 0\n",
       "promo                                0\n",
       "state_holiday                        0\n",
       "school_holiday                       0\n",
       "dtype: int64"
      ]
     },
     "execution_count": 266,
     "metadata": {},
     "output_type": "execute_result"
    }
   ],
   "source": [
    "df_raw.isna().sum()"
   ]
  },
  {
   "cell_type": "markdown",
   "id": "db5cb04d",
   "metadata": {},
   "source": [
    "## FILL NA VALUES"
   ]
  },
  {
   "cell_type": "code",
   "execution_count": 267,
   "id": "610ab81d",
   "metadata": {},
   "outputs": [],
   "source": [
    "df_raw['date'] = pd.to_datetime(df_raw['date'])"
   ]
  },
  {
   "cell_type": "code",
   "execution_count": 268,
   "id": "e124ebe7",
   "metadata": {},
   "outputs": [],
   "source": [
    "# competition_distance ( change for a value greater than the current maximum distance )\n",
    "df_raw['competition_distance'] = df_raw['competition_distance'].apply(lambda x: 200000 if pd.isna(x) else x)\n",
    "\n",
    "# competition_open_since_month ( if  na, receives the current month )\n",
    "df_raw['competition_open_since_month'] = df_raw.apply(lambda x: x['date'].month if pd.isna(x['competition_open_since_month']) else x['competition_open_since_month'], axis = 1)\n",
    "\n",
    "# competition_open_since_year ( if na, receives the current year )\n",
    "df_raw['competition_open_since_year'] = df_raw.apply(lambda x: x['date'].year if pd.isna(x['competition_open_since_year']) else x['competition_open_since_year'], axis=1)\n",
    "                                                     \n",
    "# promo2_since_week ( if na, receives the current week )\n",
    "df_raw['promo2_since_week'] = df_raw.apply(lambda x: x['date'].week if pd.isna(x['promo2_since_week']) else x['promo2_since_week'], axis=1)\n",
    "\n",
    "# promo2_since_year ( if na, receives the current year )\n",
    "df_raw['promo2_since_year'] = df_raw.apply(lambda x: x['date'].year if pd.isna(x['promo2_since_year']) else x['promo2_since_year'], axis=1)\n",
    "\n",
    "# promo_interval (fill with zeros [other changes on feature engineering ])\n",
    "df_raw['promo_interval'].fillna(0, inplace=True)"
   ]
  },
  {
   "cell_type": "markdown",
   "id": "fc8ef282",
   "metadata": {},
   "source": [
    "## CHANGE DTYPES"
   ]
  },
  {
   "cell_type": "code",
   "execution_count": 269,
   "id": "d5344b82",
   "metadata": {},
   "outputs": [],
   "source": [
    "# competition_open_since_month\n",
    "df_raw['competition_open_since_month'] = df_raw['competition_open_since_month'].astype('int64')\n",
    "\n",
    "# competition_open_since_year\n",
    "df_raw['competition_open_since_year'] = df_raw['competition_open_since_year'].astype('int64')\n",
    "\n",
    "# promo2_since_week\n",
    "df_raw['promo2_since_week'] = df_raw['promo2_since_week'].astype('int64')\n",
    "\n",
    "# promo2_since_year\n",
    "df_raw['promo2_since_year'] = df_raw['promo2_since_year'].astype('int64')"
   ]
  },
  {
   "cell_type": "markdown",
   "id": "f7b053ac",
   "metadata": {},
   "source": [
    "## DESCRIPTIVE STATISTICS"
   ]
  },
  {
   "cell_type": "code",
   "execution_count": 270,
   "id": "26efc545",
   "metadata": {},
   "outputs": [],
   "source": [
    "num_attributes = df_raw.select_dtypes(include = ['int64', 'float64'])\n",
    "cat_attributes = df_raw.select_dtypes(exclude = ['int64', 'float64', 'datetime64[ns]'])"
   ]
  },
  {
   "cell_type": "code",
   "execution_count": 271,
   "id": "3e14855b",
   "metadata": {},
   "outputs": [],
   "source": [
    "skew = pd.DataFrame(num_attributes.apply(lambda x: x.skew()), columns=['skew'])\n",
    "kurtosis = pd.DataFrame(num_attributes.apply(lambda x: x.kurtosis()), columns=['kurtosis'])"
   ]
  },
  {
   "cell_type": "code",
   "execution_count": 272,
   "id": "1a59ed3e",
   "metadata": {},
   "outputs": [
    {
     "data": {
      "text/html": [
       "<div>\n",
       "<style scoped>\n",
       "    .dataframe tbody tr th:only-of-type {\n",
       "        vertical-align: middle;\n",
       "    }\n",
       "\n",
       "    .dataframe tbody tr th {\n",
       "        vertical-align: top;\n",
       "    }\n",
       "\n",
       "    .dataframe thead th {\n",
       "        text-align: right;\n",
       "    }\n",
       "</style>\n",
       "<table border=\"1\" class=\"dataframe\">\n",
       "  <thead>\n",
       "    <tr style=\"text-align: right;\">\n",
       "      <th></th>\n",
       "      <th>count</th>\n",
       "      <th>mean</th>\n",
       "      <th>std</th>\n",
       "      <th>min</th>\n",
       "      <th>25%</th>\n",
       "      <th>50%</th>\n",
       "      <th>75%</th>\n",
       "      <th>max</th>\n",
       "      <th>skew</th>\n",
       "      <th>kurtosis</th>\n",
       "    </tr>\n",
       "  </thead>\n",
       "  <tbody>\n",
       "    <tr>\n",
       "      <th>store</th>\n",
       "      <td>1017209.00</td>\n",
       "      <td>558.43</td>\n",
       "      <td>321.91</td>\n",
       "      <td>1.00</td>\n",
       "      <td>280.00</td>\n",
       "      <td>558.00</td>\n",
       "      <td>838.00</td>\n",
       "      <td>1115.00</td>\n",
       "      <td>-0.00</td>\n",
       "      <td>-1.20</td>\n",
       "    </tr>\n",
       "    <tr>\n",
       "      <th>competition_distance</th>\n",
       "      <td>1017209.00</td>\n",
       "      <td>5935.44</td>\n",
       "      <td>12547.65</td>\n",
       "      <td>20.00</td>\n",
       "      <td>710.00</td>\n",
       "      <td>2330.00</td>\n",
       "      <td>6910.00</td>\n",
       "      <td>200000.00</td>\n",
       "      <td>10.24</td>\n",
       "      <td>147.79</td>\n",
       "    </tr>\n",
       "    <tr>\n",
       "      <th>competition_open_since_month</th>\n",
       "      <td>1017209.00</td>\n",
       "      <td>6.79</td>\n",
       "      <td>3.31</td>\n",
       "      <td>1.00</td>\n",
       "      <td>4.00</td>\n",
       "      <td>7.00</td>\n",
       "      <td>10.00</td>\n",
       "      <td>12.00</td>\n",
       "      <td>-0.04</td>\n",
       "      <td>-1.23</td>\n",
       "    </tr>\n",
       "    <tr>\n",
       "      <th>competition_open_since_year</th>\n",
       "      <td>1017209.00</td>\n",
       "      <td>2010.32</td>\n",
       "      <td>5.52</td>\n",
       "      <td>1900.00</td>\n",
       "      <td>2008.00</td>\n",
       "      <td>2012.00</td>\n",
       "      <td>2014.00</td>\n",
       "      <td>2015.00</td>\n",
       "      <td>-7.24</td>\n",
       "      <td>124.07</td>\n",
       "    </tr>\n",
       "    <tr>\n",
       "      <th>promo2</th>\n",
       "      <td>1017209.00</td>\n",
       "      <td>0.50</td>\n",
       "      <td>0.50</td>\n",
       "      <td>0.00</td>\n",
       "      <td>0.00</td>\n",
       "      <td>1.00</td>\n",
       "      <td>1.00</td>\n",
       "      <td>1.00</td>\n",
       "      <td>-0.00</td>\n",
       "      <td>-2.00</td>\n",
       "    </tr>\n",
       "    <tr>\n",
       "      <th>promo2_since_week</th>\n",
       "      <td>1017209.00</td>\n",
       "      <td>23.62</td>\n",
       "      <td>14.31</td>\n",
       "      <td>1.00</td>\n",
       "      <td>12.00</td>\n",
       "      <td>22.00</td>\n",
       "      <td>37.00</td>\n",
       "      <td>52.00</td>\n",
       "      <td>0.18</td>\n",
       "      <td>-1.18</td>\n",
       "    </tr>\n",
       "    <tr>\n",
       "      <th>promo2_since_year</th>\n",
       "      <td>1017209.00</td>\n",
       "      <td>2012.79</td>\n",
       "      <td>1.66</td>\n",
       "      <td>2009.00</td>\n",
       "      <td>2012.00</td>\n",
       "      <td>2013.00</td>\n",
       "      <td>2014.00</td>\n",
       "      <td>2015.00</td>\n",
       "      <td>-0.78</td>\n",
       "      <td>-0.21</td>\n",
       "    </tr>\n",
       "    <tr>\n",
       "      <th>day_of_week</th>\n",
       "      <td>1017209.00</td>\n",
       "      <td>4.00</td>\n",
       "      <td>2.00</td>\n",
       "      <td>1.00</td>\n",
       "      <td>2.00</td>\n",
       "      <td>4.00</td>\n",
       "      <td>6.00</td>\n",
       "      <td>7.00</td>\n",
       "      <td>0.00</td>\n",
       "      <td>-1.25</td>\n",
       "    </tr>\n",
       "    <tr>\n",
       "      <th>sales</th>\n",
       "      <td>1017209.00</td>\n",
       "      <td>5773.82</td>\n",
       "      <td>3849.93</td>\n",
       "      <td>0.00</td>\n",
       "      <td>3727.00</td>\n",
       "      <td>5744.00</td>\n",
       "      <td>7856.00</td>\n",
       "      <td>41551.00</td>\n",
       "      <td>0.64</td>\n",
       "      <td>1.78</td>\n",
       "    </tr>\n",
       "    <tr>\n",
       "      <th>customers</th>\n",
       "      <td>1017209.00</td>\n",
       "      <td>633.15</td>\n",
       "      <td>464.41</td>\n",
       "      <td>0.00</td>\n",
       "      <td>405.00</td>\n",
       "      <td>609.00</td>\n",
       "      <td>837.00</td>\n",
       "      <td>7388.00</td>\n",
       "      <td>1.60</td>\n",
       "      <td>7.09</td>\n",
       "    </tr>\n",
       "    <tr>\n",
       "      <th>open</th>\n",
       "      <td>1017209.00</td>\n",
       "      <td>0.83</td>\n",
       "      <td>0.38</td>\n",
       "      <td>0.00</td>\n",
       "      <td>1.00</td>\n",
       "      <td>1.00</td>\n",
       "      <td>1.00</td>\n",
       "      <td>1.00</td>\n",
       "      <td>-1.76</td>\n",
       "      <td>1.09</td>\n",
       "    </tr>\n",
       "    <tr>\n",
       "      <th>promo</th>\n",
       "      <td>1017209.00</td>\n",
       "      <td>0.38</td>\n",
       "      <td>0.49</td>\n",
       "      <td>0.00</td>\n",
       "      <td>0.00</td>\n",
       "      <td>0.00</td>\n",
       "      <td>1.00</td>\n",
       "      <td>1.00</td>\n",
       "      <td>0.49</td>\n",
       "      <td>-1.76</td>\n",
       "    </tr>\n",
       "    <tr>\n",
       "      <th>school_holiday</th>\n",
       "      <td>1017209.00</td>\n",
       "      <td>0.18</td>\n",
       "      <td>0.38</td>\n",
       "      <td>0.00</td>\n",
       "      <td>0.00</td>\n",
       "      <td>0.00</td>\n",
       "      <td>0.00</td>\n",
       "      <td>1.00</td>\n",
       "      <td>1.68</td>\n",
       "      <td>0.82</td>\n",
       "    </tr>\n",
       "  </tbody>\n",
       "</table>\n",
       "</div>"
      ],
      "text/plain": [
       "                                  count    mean      std     min     25%  \\\n",
       "store                        1017209.00  558.43   321.91    1.00  280.00   \n",
       "competition_distance         1017209.00 5935.44 12547.65   20.00  710.00   \n",
       "competition_open_since_month 1017209.00    6.79     3.31    1.00    4.00   \n",
       "competition_open_since_year  1017209.00 2010.32     5.52 1900.00 2008.00   \n",
       "promo2                       1017209.00    0.50     0.50    0.00    0.00   \n",
       "promo2_since_week            1017209.00   23.62    14.31    1.00   12.00   \n",
       "promo2_since_year            1017209.00 2012.79     1.66 2009.00 2012.00   \n",
       "day_of_week                  1017209.00    4.00     2.00    1.00    2.00   \n",
       "sales                        1017209.00 5773.82  3849.93    0.00 3727.00   \n",
       "customers                    1017209.00  633.15   464.41    0.00  405.00   \n",
       "open                         1017209.00    0.83     0.38    0.00    1.00   \n",
       "promo                        1017209.00    0.38     0.49    0.00    0.00   \n",
       "school_holiday               1017209.00    0.18     0.38    0.00    0.00   \n",
       "\n",
       "                                 50%     75%       max  skew  kurtosis  \n",
       "store                         558.00  838.00   1115.00 -0.00     -1.20  \n",
       "competition_distance         2330.00 6910.00 200000.00 10.24    147.79  \n",
       "competition_open_since_month    7.00   10.00     12.00 -0.04     -1.23  \n",
       "competition_open_since_year  2012.00 2014.00   2015.00 -7.24    124.07  \n",
       "promo2                          1.00    1.00      1.00 -0.00     -2.00  \n",
       "promo2_since_week              22.00   37.00     52.00  0.18     -1.18  \n",
       "promo2_since_year            2013.00 2014.00   2015.00 -0.78     -0.21  \n",
       "day_of_week                     4.00    6.00      7.00  0.00     -1.25  \n",
       "sales                        5744.00 7856.00  41551.00  0.64      1.78  \n",
       "customers                     609.00  837.00   7388.00  1.60      7.09  \n",
       "open                            1.00    1.00      1.00 -1.76      1.09  \n",
       "promo                           0.00    1.00      1.00  0.49     -1.76  \n",
       "school_holiday                  0.00    0.00      1.00  1.68      0.82  "
      ]
     },
     "execution_count": 272,
     "metadata": {},
     "output_type": "execute_result"
    }
   ],
   "source": [
    "df_description = pd.DataFrame(df_raw.describe()).T\n",
    "df_description = pd.concat([df_description, skew, kurtosis], axis=1)\n",
    "df_description"
   ]
  },
  {
   "cell_type": "markdown",
   "id": "dc95a780",
   "metadata": {},
   "source": [
    "# FEATURE ENGINEERING"
   ]
  },
  {
   "cell_type": "markdown",
   "id": "8e45e690",
   "metadata": {},
   "source": [
    "## HYPOTESES"
   ]
  },
  {
   "cell_type": "markdown",
   "id": "ff592d9e",
   "metadata": {},
   "source": [
    "> <font color=green>__1. Lojas com maior sortimento vendem mais<br>\n",
    "2. Lojas com competidores mais próximo vendem menos<br>\n",
    "3. Lojas com competidores a mais tempo vendem mais<br>\n",
    "4. Lojas vendem menos aos finais de semana<br>\n",
    "5. Lojas que participam da promo2 vendem mais<br>\n",
    "6. Lojas vendem mais no natal<br>\n",
    "7. Lojas vendem menos nos feriados escolares<br>\n",
    "8. Lojas em promoção a mais tempo vendem mais<br>\n",
    "9. Lojas deveriam vender mais ao longo dos anos<br>\n",
    "10. Lojas deveriam vender mais no segundo semestre do ano.<br>\n",
    "11. Lojas deveriam vender mais depois do dia 10 de cada mês.__</font>"
   ]
  },
  {
   "cell_type": "markdown",
   "id": "b836fc7a",
   "metadata": {},
   "source": [
    "## FEATURE ENGINEERING"
   ]
  },
  {
   "cell_type": "code",
   "execution_count": 273,
   "id": "deac1260",
   "metadata": {},
   "outputs": [],
   "source": [
    "#Assortment\n",
    "df_raw['assortment'] = df_raw['assortment'].apply(lambda x: 'basic' if x == 'a' else 'extended' if x == 'b' else 'extra')\n",
    "\n",
    "#State Holiday\n",
    "df_raw['state_holiday'] = df_raw['state_holiday'].apply(lambda x: 'public_holiday' if x == 'a' else 'easter_holiday' if x == 'b' else 'christmas' if x == 'c' else 'regular_day')\n",
    "\n",
    "#month\n",
    "df_raw['month'] = df_raw['date'].dt.month\n",
    "\n",
    "#year\n",
    "df_raw['year'] = df_raw['date'].dt.year\n",
    "\n",
    "#day\n",
    "df_raw['day'] = df_raw['date'].dt.day\n",
    "\n",
    "#week of year\n",
    "df_raw['week_of_year'] = df1['date'].dt.isocalendar().week\n",
    "\n",
    "# is_promo\n",
    "month_map = {1: 'Jan', 2: 'Feb', 3: 'Mar', 4: 'Apr', 5: 'May', 6: 'Jun', 7: 'Jul', 8: 'Aug', 9: 'Sept', 10: 'Oct', 11: 'Nov', 12:'Dec'}\n",
    "df_raw['month_map'] = df_raw['date'].dt.month.map(month_map)\n",
    "df_raw['is_promo'] = df_raw.apply(lambda x: 0 if x['promo_interval'] == 0 else 1 if str( x['month_map'] ) in str ( x['promo_interval'] ) else 0, axis=1)\n",
    "\n",
    "# competition_since\n",
    "df_raw['competition_since'] = df_raw.apply(lambda x: datetime(year = x['competition_open_since_year'], month = x['competition_open_since_month'], day = 1), axis=1)\n",
    "\n",
    "# Months with competitor\n",
    "df_raw['competition_time_month'] = ((df_raw['date'] - df_raw['competition_since']) / 30).apply(lambda x: x.days).astype('int64')\n",
    "df_raw['competition_time_month'].head(30)\n",
    "\n",
    "# promo_since\n",
    "df_raw['promo_since'] = df_raw['promo2_since_year'].astype(str) + '-' + df_raw['promo2_since_week'].astype(str)\n",
    "df_raw['promo_since'] = df_raw['promo_since'].apply(lambda x: datetime.strptime(x + '-1', '%Y-%W-%w') - timedelta(days = 7 ))\n",
    "df_raw['promo_time_week'] = ((df_raw['date'] - df_raw['promo_since']) / 7).apply(lambda x: x.days).astype('int64')"
   ]
  },
  {
   "cell_type": "markdown",
   "id": "45b1e927",
   "metadata": {},
   "source": [
    "# FEATURE FILTERING"
   ]
  },
  {
   "cell_type": "markdown",
   "id": "0ca22053",
   "metadata": {},
   "source": [
    "## SELECTING ROWS"
   ]
  },
  {
   "cell_type": "markdown",
   "id": "979dc45b",
   "metadata": {},
   "source": [
    "Customers will be excluded since we won't have the number of customers at the moment of prediction.\n",
    "<br>\n",
    "Lines in wich the column open is equal 0 will be deleted since we don't have sales when the store is closed"
   ]
  },
  {
   "cell_type": "code",
   "execution_count": 274,
   "id": "d62d4516",
   "metadata": {},
   "outputs": [],
   "source": [
    "df_raw = df_raw[(df_raw['sales'] != 0) & (df_raw['open'] != 0)]"
   ]
  },
  {
   "cell_type": "markdown",
   "id": "67530bf5",
   "metadata": {},
   "source": [
    "## SELECTING COLUMNS"
   ]
  },
  {
   "cell_type": "code",
   "execution_count": 275,
   "id": "81ef974b",
   "metadata": {},
   "outputs": [],
   "source": [
    "df_raw.drop(columns=['open', 'customers', 'promo_interval', 'month_map'], inplace=True)"
   ]
  },
  {
   "cell_type": "markdown",
   "id": "f229ccf5",
   "metadata": {},
   "source": [
    "# EXPLORATORY DATA ANALYSIS"
   ]
  },
  {
   "cell_type": "markdown",
   "id": "0c7e9641",
   "metadata": {},
   "source": [
    "## UNIVARIATE ANALYSIS"
   ]
  },
  {
   "cell_type": "markdown",
   "id": "50210b73",
   "metadata": {},
   "source": [
    "### RESPONSE VARIABLE"
   ]
  },
  {
   "cell_type": "markdown",
   "id": "7b751e82",
   "metadata": {},
   "source": [
    "### NUMERICAL VARIABLE"
   ]
  },
  {
   "cell_type": "markdown",
   "id": "6f51b1ae",
   "metadata": {},
   "source": [
    "### CATEGORICAL VARIABLE"
   ]
  },
  {
   "cell_type": "markdown",
   "id": "74c8a300",
   "metadata": {},
   "source": [
    "## BIVARIATE ANALYSIS"
   ]
  },
  {
   "cell_type": "markdown",
   "id": "9b7182c4",
   "metadata": {},
   "source": [
    "## MULTIVARIATE ANALYSIS"
   ]
  },
  {
   "cell_type": "markdown",
   "id": "063201ec",
   "metadata": {},
   "source": [
    "# DATA PREPARATION"
   ]
  },
  {
   "cell_type": "markdown",
   "id": "b9c4e847",
   "metadata": {
    "heading_collapsed": true
   },
   "source": [
    "## NORMALIZATION"
   ]
  },
  {
   "cell_type": "markdown",
   "id": "3ba17728",
   "metadata": {},
   "source": [
    "## RESCALING"
   ]
  },
  {
   "cell_type": "code",
   "execution_count": 294,
   "id": "9264e6d5",
   "metadata": {},
   "outputs": [],
   "source": [
    "df1 = df_raw.copy()"
   ]
  },
  {
   "cell_type": "code",
   "execution_count": 295,
   "id": "c89cd30f",
   "metadata": {},
   "outputs": [],
   "source": [
    "scaler = MinMaxScaler()\n",
    "\n",
    "df1['year'] = scaler.fit_transform(df1[['year']])\n",
    "\n",
    "df1['promo_time_week'] = scaler.fit_transform(df1[['promo_time_week']])"
   ]
  },
  {
   "cell_type": "code",
   "execution_count": 296,
   "id": "559e1fd1",
   "metadata": {},
   "outputs": [],
   "source": [
    "r_scaler = RobustScaler()\n",
    "\n",
    "df1['competition_distance'] = rscaler.fit_transform(df1[['competition_distance']])\n",
    "\n",
    "df1['competition_time_month'] = rscaler.fit_transform(df1[['competition_time_month']])"
   ]
  },
  {
   "cell_type": "markdown",
   "id": "9c674d5b",
   "metadata": {},
   "source": [
    "## ENCONDING"
   ]
  },
  {
   "cell_type": "code",
   "execution_count": 297,
   "id": "663ed9fd",
   "metadata": {},
   "outputs": [],
   "source": [
    "#assortment\n",
    "assortment_dict = {'basic': 0, 'extended': 1, 'extra': 2}\n",
    "df1['assortment'] = df1['assortment'].map(assortment_dict)\n",
    "\n",
    "#state holiday\n",
    "df1 = pd.get_dummies(df1, prefix='holiday', columns=['state_holiday'])\n",
    "\n",
    "#store type\n",
    "le = LabelEncoder()\n",
    "df1['store_type'] = le.fit_transform(df1[['store_type']])"
   ]
  },
  {
   "cell_type": "markdown",
   "id": "efb76e8e",
   "metadata": {},
   "source": [
    "## TRANSFORMATION"
   ]
  },
  {
   "cell_type": "code",
   "execution_count": 298,
   "id": "0fa85bed",
   "metadata": {},
   "outputs": [],
   "source": [
    "# month\n",
    "df1['month_sin'] = df1['month'].apply(lambda x:  np.sin(x *( 2 * np.pi / 12)))\n",
    "df1['month_cos'] = df1['month'].apply(lambda x: np.cos(x * ( 2* np.pi / 12)))\n",
    "                                  \n",
    "#day\n",
    "df1['day_sin'] = df1['day'].apply(lambda x:  np.sin(x *( 2 * np.pi / 30)))\n",
    "df1['day_cos'] = df1['day'].apply(lambda x: np.cos(x * ( 2* np.pi / 30)))\n",
    "\n",
    "#week of year\n",
    "df1['week_of_year_sin'] = df1['week_of_year'].apply(lambda x:  np.sin(x *( 2 * np.pi / 52)))\n",
    "df1['week_of_year_cos'] = df1['week_of_year'].apply(lambda x: np.cos(x * ( 2* np.pi / 52)))\n",
    "                                      \n",
    "#day of week\n",
    "df1['day_of_week_sin'] = df1['day_of_week'].apply(lambda x:  np.sin(x *( 2 * np.pi / 7)))\n",
    "df1['day_of_week_cos'] = df1['day_of_week'].apply(lambda x: np.cos(x * ( 2* np.pi / 7)))"
   ]
  },
  {
   "cell_type": "markdown",
   "id": "e25c634b",
   "metadata": {},
   "source": [
    "# FEATURE SELECTION"
   ]
  },
  {
   "cell_type": "markdown",
   "id": "32275ee9",
   "metadata": {},
   "source": [
    "### SPLIT DATAFRAME INTO TRAINING AND TEST"
   ]
  },
  {
   "cell_type": "code",
   "execution_count": 302,
   "id": "ab63b2c9",
   "metadata": {},
   "outputs": [],
   "source": [
    "cols_drop = ['day_of_week', 'week_of_year', 'day', 'month', 'promo_since', 'competition_since']\n",
    "df1.drop(columns=cols_drop, inplace=True)"
   ]
  },
  {
   "cell_type": "markdown",
   "id": "ef6b2ff2",
   "metadata": {},
   "source": [
    "### BORUTA AS FEATURE SELECTOR"
   ]
  },
  {
   "cell_type": "code",
   "execution_count": 305,
   "id": "a3134fcb",
   "metadata": {},
   "outputs": [
    {
     "data": {
      "text/html": [
       "<div>\n",
       "<style scoped>\n",
       "    .dataframe tbody tr th:only-of-type {\n",
       "        vertical-align: middle;\n",
       "    }\n",
       "\n",
       "    .dataframe tbody tr th {\n",
       "        vertical-align: top;\n",
       "    }\n",
       "\n",
       "    .dataframe thead th {\n",
       "        text-align: right;\n",
       "    }\n",
       "</style>\n",
       "<table border=\"1\" class=\"dataframe\">\n",
       "  <thead>\n",
       "    <tr style=\"text-align: right;\">\n",
       "      <th></th>\n",
       "      <th>store</th>\n",
       "      <th>store_type</th>\n",
       "      <th>assortment</th>\n",
       "      <th>competition_distance</th>\n",
       "      <th>competition_open_since_month</th>\n",
       "      <th>competition_open_since_year</th>\n",
       "      <th>promo2</th>\n",
       "      <th>promo2_since_week</th>\n",
       "      <th>promo2_since_year</th>\n",
       "      <th>date</th>\n",
       "      <th>sales</th>\n",
       "      <th>promo</th>\n",
       "      <th>school_holiday</th>\n",
       "      <th>year</th>\n",
       "      <th>is_promo</th>\n",
       "      <th>competition_time_month</th>\n",
       "      <th>promo_time_week</th>\n",
       "      <th>holiday_christmas</th>\n",
       "      <th>holiday_easter_holiday</th>\n",
       "      <th>holiday_public_holiday</th>\n",
       "      <th>holiday_regular_day</th>\n",
       "      <th>month_sin</th>\n",
       "      <th>month_cos</th>\n",
       "      <th>day_sin</th>\n",
       "      <th>day_cos</th>\n",
       "      <th>week_of_year_sin</th>\n",
       "      <th>week_of_year_cos</th>\n",
       "      <th>day_of_week_sin</th>\n",
       "      <th>day_of_week_cos</th>\n",
       "    </tr>\n",
       "  </thead>\n",
       "  <tbody>\n",
       "    <tr>\n",
       "      <th>0</th>\n",
       "      <td>1</td>\n",
       "      <td>2</td>\n",
       "      <td>0</td>\n",
       "      <td>-0.17097</td>\n",
       "      <td>9</td>\n",
       "      <td>2008</td>\n",
       "      <td>0</td>\n",
       "      <td>31</td>\n",
       "      <td>2015</td>\n",
       "      <td>2015-07-31</td>\n",
       "      <td>5263</td>\n",
       "      <td>1</td>\n",
       "      <td>1</td>\n",
       "      <td>1.00000</td>\n",
       "      <td>0</td>\n",
       "      <td>0.91892</td>\n",
       "      <td>0.28702</td>\n",
       "      <td>0</td>\n",
       "      <td>0</td>\n",
       "      <td>0</td>\n",
       "      <td>1</td>\n",
       "      <td>-0.50000</td>\n",
       "      <td>-0.86603</td>\n",
       "      <td>0.20791</td>\n",
       "      <td>0.97815</td>\n",
       "      <td>-0.56806</td>\n",
       "      <td>-0.82298</td>\n",
       "      <td>-0.97493</td>\n",
       "      <td>-0.22252</td>\n",
       "    </tr>\n",
       "  </tbody>\n",
       "</table>\n",
       "</div>"
      ],
      "text/plain": [
       "   store  store_type  assortment  competition_distance  \\\n",
       "0      1           2           0              -0.17097   \n",
       "\n",
       "   competition_open_since_month  competition_open_since_year  promo2  \\\n",
       "0                             9                         2008       0   \n",
       "\n",
       "   promo2_since_week  promo2_since_year       date  sales  promo  \\\n",
       "0                 31               2015 2015-07-31   5263      1   \n",
       "\n",
       "   school_holiday    year  is_promo  competition_time_month  promo_time_week  \\\n",
       "0               1 1.00000         0                 0.91892          0.28702   \n",
       "\n",
       "   holiday_christmas  holiday_easter_holiday  holiday_public_holiday  \\\n",
       "0                  0                       0                       0   \n",
       "\n",
       "   holiday_regular_day  month_sin  month_cos  day_sin  day_cos  \\\n",
       "0                    1   -0.50000   -0.86603  0.20791  0.97815   \n",
       "\n",
       "   week_of_year_sin  week_of_year_cos  day_of_week_sin  day_of_week_cos  \n",
       "0          -0.56806          -0.82298         -0.97493         -0.22252  "
      ]
     },
     "execution_count": 305,
     "metadata": {},
     "output_type": "execute_result"
    }
   ],
   "source": [
    "df1.head(1)"
   ]
  },
  {
   "cell_type": "code",
   "execution_count": 318,
   "id": "3b7f9dd3",
   "metadata": {},
   "outputs": [],
   "source": [
    "X_train = df1[df1['date'] <= df1['date'].max() - timedelta(weeks=6)]\n",
    "Y_train = X_train['sales']\n",
    "\n",
    "X_test = df1[df1['date'] > df1['date'].max() - timedelta(weeks=6)]\n",
    "Y_test = X_test['sales']"
   ]
  },
  {
   "cell_type": "code",
   "execution_count": 323,
   "id": "b2c3686a",
   "metadata": {},
   "outputs": [
    {
     "name": "stdout",
     "output_type": "stream",
     "text": [
      "Train Min: 2013-01-01 00:00:00, Train Max: 2015-06-19 00:00:00\n",
      " Test Min: 2015-06-20 00:00:00, Test Max: 2015-07-31 00:00:00\n"
     ]
    }
   ],
   "source": [
    "print(f\"Train Min: {X_train['date'].min()}, Train Max: {X_train['date'].max()}\")\n",
    "print(f\" Test Min: {X_test['date'].min()}, Test Max: {X_test['date'].max()}\")"
   ]
  },
  {
   "cell_type": "code",
   "execution_count": 328,
   "id": "c9a8749f",
   "metadata": {},
   "outputs": [
    {
     "name": "stdout",
     "output_type": "stream",
     "text": [
      "Iteration: \t1 / 100\n",
      "Confirmed: \t0\n",
      "Tentative: \t27\n",
      "Rejected: \t0\n",
      "Iteration: \t2 / 100\n",
      "Confirmed: \t0\n",
      "Tentative: \t27\n",
      "Rejected: \t0\n",
      "Iteration: \t3 / 100\n",
      "Confirmed: \t0\n",
      "Tentative: \t27\n",
      "Rejected: \t0\n",
      "Iteration: \t4 / 100\n",
      "Confirmed: \t0\n",
      "Tentative: \t27\n",
      "Rejected: \t0\n",
      "Iteration: \t5 / 100\n",
      "Confirmed: \t0\n",
      "Tentative: \t27\n",
      "Rejected: \t0\n",
      "Iteration: \t6 / 100\n",
      "Confirmed: \t0\n",
      "Tentative: \t27\n",
      "Rejected: \t0\n",
      "Iteration: \t7 / 100\n",
      "Confirmed: \t0\n",
      "Tentative: \t27\n",
      "Rejected: \t0\n",
      "Iteration: \t8 / 100\n",
      "Confirmed: \t17\n",
      "Tentative: \t0\n",
      "Rejected: \t10\n",
      "\n",
      "\n",
      "BorutaPy finished running.\n",
      "\n",
      "Iteration: \t9 / 100\n",
      "Confirmed: \t17\n",
      "Tentative: \t0\n",
      "Rejected: \t10\n"
     ]
    }
   ],
   "source": [
    "X_train_n = X_train.drop(columns=['date', 'sales']).values\n",
    "Y_train_n = Y_train.values.ravel()\n",
    "\n",
    "rf = RandomForestRegressor(n_jobs=1)\n",
    "\n",
    "boruta = BorutaPy(rf, n_estimators='auto', verbose=2, random_state=42).fit(X_train_n, Y_train_n)"
   ]
  },
  {
   "cell_type": "markdown",
   "id": "e403aad8",
   "metadata": {},
   "source": [
    "# MACHINE LEARNING ( TRAINING MODEL )"
   ]
  },
  {
   "cell_type": "markdown",
   "id": "a294a8ea",
   "metadata": {},
   "source": [
    "# FINE TUNNING"
   ]
  },
  {
   "cell_type": "markdown",
   "id": "efddac2a",
   "metadata": {},
   "source": [
    "# ERROR ANALYSIS"
   ]
  },
  {
   "cell_type": "code",
   "execution_count": null,
   "id": "89f76406",
   "metadata": {},
   "outputs": [],
   "source": []
  },
  {
   "cell_type": "code",
   "execution_count": null,
   "id": "8375ed85",
   "metadata": {},
   "outputs": [],
   "source": []
  },
  {
   "cell_type": "code",
   "execution_count": null,
   "id": "d3a8c182",
   "metadata": {},
   "outputs": [],
   "source": []
  },
  {
   "cell_type": "code",
   "execution_count": null,
   "id": "93b68d11",
   "metadata": {},
   "outputs": [],
   "source": []
  },
  {
   "cell_type": "code",
   "execution_count": null,
   "id": "4c017082",
   "metadata": {},
   "outputs": [],
   "source": []
  },
  {
   "cell_type": "code",
   "execution_count": null,
   "id": "11b05cfc",
   "metadata": {},
   "outputs": [],
   "source": []
  }
 ],
 "metadata": {
  "kernelspec": {
   "display_name": "Python 3 (ipykernel)",
   "language": "python",
   "name": "python3"
  },
  "language_info": {
   "codemirror_mode": {
    "name": "ipython",
    "version": 3
   },
   "file_extension": ".py",
   "mimetype": "text/x-python",
   "name": "python",
   "nbconvert_exporter": "python",
   "pygments_lexer": "ipython3",
   "version": "3.9.7"
  },
  "toc": {
   "base_numbering": 1,
   "nav_menu": {},
   "number_sections": true,
   "sideBar": true,
   "skip_h1_title": false,
   "title_cell": "Table of Contents",
   "title_sidebar": "Contents",
   "toc_cell": false,
   "toc_position": {},
   "toc_section_display": true,
   "toc_window_display": false
  }
 },
 "nbformat": 4,
 "nbformat_minor": 5
}
