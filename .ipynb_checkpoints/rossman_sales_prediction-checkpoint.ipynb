{
 "cells": [
  {
   "cell_type": "markdown",
   "id": "392d15c1",
   "metadata": {},
   "source": [
    "# 1. IMPORTS "
   ]
  },
  {
   "cell_type": "code",
   "execution_count": 155,
   "id": "28fb6ac4",
   "metadata": {},
   "outputs": [],
   "source": [
    "import pandas as pd\n",
    "from inflection import underscore\n",
    "import numpy as np\n",
    "import matplotlib.pyplot as plt\n",
    "import seaborn as sns\n",
    "from datetime import datetime, timedelta\n",
    "import warnings"
   ]
  },
  {
   "cell_type": "markdown",
   "id": "e530c08b",
   "metadata": {},
   "source": [
    "## 1. 1 HELPER FUNCTIONS"
   ]
  },
  {
   "cell_type": "code",
   "execution_count": 156,
   "id": "e9c940ca",
   "metadata": {},
   "outputs": [],
   "source": [
    "pd.set_option('display.max_rows', 100)\n",
    "warnings.filterwarnings('ignore')"
   ]
  },
  {
   "cell_type": "markdown",
   "id": "0730c019",
   "metadata": {},
   "source": [
    "## 1.2 LOADING DATA"
   ]
  },
  {
   "cell_type": "code",
   "execution_count": 64,
   "id": "28add2c9",
   "metadata": {},
   "outputs": [],
   "source": [
    "df_store = pd.read_csv('./datasets/store.csv', low_memory = False)\n",
    "df_train = pd.read_csv('./datasets/train.csv', low_memory = False)\n",
    "df_raw = df_store.merge(df_train, how='left', on='Store')"
   ]
  },
  {
   "cell_type": "markdown",
   "id": "cf49b212",
   "metadata": {},
   "source": [
    "# 2. DATA DESCRIPTION "
   ]
  },
  {
   "cell_type": "markdown",
   "id": "66e00783",
   "metadata": {},
   "source": [
    "## 2.1 RENAME COLUMNS"
   ]
  },
  {
   "cell_type": "code",
   "execution_count": 65,
   "id": "d5f3a343",
   "metadata": {},
   "outputs": [],
   "source": [
    "# Trasorming columns names into snake_case\n",
    "old_cols = df_raw.columns.to_list()\n",
    "new_cols = [underscore(w) for w in old_cols]\n",
    "df_raw.columns = new_cols"
   ]
  },
  {
   "cell_type": "markdown",
   "id": "dc862821",
   "metadata": {},
   "source": [
    "## 2.2 DATA DIMENSIONS"
   ]
  },
  {
   "cell_type": "code",
   "execution_count": 66,
   "id": "da501266",
   "metadata": {},
   "outputs": [
    {
     "name": "stdout",
     "output_type": "stream",
     "text": [
      "Dataset has 1017209 lines and 18 columns\n"
     ]
    }
   ],
   "source": [
    "print(f'Dataset has {df_raw.shape[0]} lines and {df_raw.shape[1]} columns')"
   ]
  },
  {
   "cell_type": "markdown",
   "id": "828d9b3f",
   "metadata": {},
   "source": [
    "## 2.3 CHECK DTYPES"
   ]
  },
  {
   "cell_type": "code",
   "execution_count": 67,
   "id": "93fedcc6",
   "metadata": {},
   "outputs": [
    {
     "data": {
      "text/plain": [
       "store                             int64\n",
       "store_type                       object\n",
       "assortment                       object\n",
       "competition_distance            float64\n",
       "competition_open_since_month    float64\n",
       "competition_open_since_year     float64\n",
       "promo2                            int64\n",
       "promo2_since_week               float64\n",
       "promo2_since_year               float64\n",
       "promo_interval                   object\n",
       "day_of_week                       int64\n",
       "date                             object\n",
       "sales                             int64\n",
       "customers                         int64\n",
       "open                              int64\n",
       "promo                             int64\n",
       "state_holiday                    object\n",
       "school_holiday                    int64\n",
       "dtype: object"
      ]
     },
     "execution_count": 67,
     "metadata": {},
     "output_type": "execute_result"
    }
   ],
   "source": [
    "df_raw.dtypes"
   ]
  },
  {
   "cell_type": "markdown",
   "id": "d4cd25c8",
   "metadata": {},
   "source": [
    "## 2.4 CHECK NA"
   ]
  },
  {
   "cell_type": "code",
   "execution_count": 68,
   "id": "020c1493",
   "metadata": {},
   "outputs": [
    {
     "data": {
      "text/plain": [
       "store                                0\n",
       "store_type                           0\n",
       "assortment                           0\n",
       "competition_distance              2642\n",
       "competition_open_since_month    323348\n",
       "competition_open_since_year     323348\n",
       "promo2                               0\n",
       "promo2_since_week               508031\n",
       "promo2_since_year               508031\n",
       "promo_interval                  508031\n",
       "day_of_week                          0\n",
       "date                                 0\n",
       "sales                                0\n",
       "customers                            0\n",
       "open                                 0\n",
       "promo                                0\n",
       "state_holiday                        0\n",
       "school_holiday                       0\n",
       "dtype: int64"
      ]
     },
     "execution_count": 68,
     "metadata": {},
     "output_type": "execute_result"
    }
   ],
   "source": [
    "df_raw.isna().sum()"
   ]
  },
  {
   "cell_type": "markdown",
   "id": "4d794dd3",
   "metadata": {},
   "source": [
    "## 2.5 FILL NA VALUES"
   ]
  },
  {
   "cell_type": "code",
   "execution_count": 69,
   "id": "dfbc5734",
   "metadata": {},
   "outputs": [],
   "source": [
    "#Para não dar erro é preciso converter a coluna 'date' para datetime antes de preencher os valores NA.\n",
    "df_raw['date'] = pd.to_datetime( df_raw['date'] ) "
   ]
  },
  {
   "cell_type": "code",
   "execution_count": 70,
   "id": "6c39edf7",
   "metadata": {},
   "outputs": [],
   "source": [
    "# competition_distance ( vamos trocar os NA's por uma distnacia muito grande, presumindo que não exista competição próxima)\n",
    "df_raw['competition_distance'] = df_raw['competition_distance'].apply(lambda x: 20000 if pd.isna( x ) else x).astype('int64')\n",
    "\n",
    "# competition_open_since_month ( qunando for NA vamos substituir pelo mês da data atual)\n",
    "df_raw['competition_open_since_month']  = df_raw.apply(lambda x: x['date'].month if pd.isna( x['competition_open_since_month'] )  else x['competition_open_since_month'], axis = 1)\n",
    "\n",
    "# competition_open_since_year\n",
    "df_raw['competition_open_since_year']  = df_raw.apply(lambda x: x['date'].year if pd.isna( x['competition_open_since_year'] )  else x['competition_open_since_year'], axis = 1)\n",
    "\n",
    "# promo2_since_week\n",
    "df_raw['promo2_since_week'] = df_raw.apply(lambda x: x['date'].week if pd.isna( x['promo2_since_week']) else x['promo2_since_week'], axis = 1)\n",
    "\n",
    "# promo2_since_year\n",
    "df_raw['promo2_since_year'] = df_raw.apply(lambda x: x['date'].year if pd.isna(x['promo2_since_year']) else x['promo2_since_year' ], axis = 1) \n",
    "\n",
    "# promo_interval\n",
    "month_map = {1: 'Jan', 2:'Feb', 3:'Mar', 4:'Apr', 5:'May', 6:'Jun', 7: 'Jul', 8: 'Aug', 9: 'Sept', 10: 'Oct', 11: 'Nov', 12: 'Dec'}\n",
    "df_raw['promo_interval'].fillna(0, inplace=True)\n",
    "df_raw['month_map'] = df_raw['date'].dt.month.map( month_map )\n",
    "df_raw['is_promo'] = df_raw.apply(lambda x: 0 if x['promo_interval'] == 0 else 1 if str( x['month_map'] ) in str( x['promo_interval']) else 0, axis=1)"
   ]
  },
  {
   "cell_type": "markdown",
   "id": "76320d04",
   "metadata": {},
   "source": [
    "## 2.6 CHANGE DTYPES"
   ]
  },
  {
   "cell_type": "code",
   "execution_count": 71,
   "id": "06ee1047",
   "metadata": {},
   "outputs": [],
   "source": [
    "# Transforming 'date' columns into datetime\n",
    "df_raw['date'] = pd.to_datetime( df_raw['date'] )\n",
    "\n",
    "# competition_open_since_month into int\n",
    "df_raw['competition_open_since_month'] = df_raw['competition_open_since_month'].astype( 'int64' )\n",
    "\n",
    "# competition_open_since_year into int\n",
    "df_raw['competition_open_since_year']  = df_raw['competition_open_since_year'].astype( 'int64' )\n",
    "\n",
    "# promo2_since_week into int\n",
    "df_raw['promo2_since_week'] = df_raw['promo2_since_week'].astype( 'int64' )\n",
    "\n",
    "# promo2_since_year into int\n",
    "df_raw['promo2_since_year'] = df_raw['promo2_since_year'].astype( 'int64' )"
   ]
  },
  {
   "cell_type": "markdown",
   "id": "a1d88a48",
   "metadata": {},
   "source": [
    "## 2.7 DESCRIPTIVE STATISTICS"
   ]
  },
  {
   "cell_type": "code",
   "execution_count": 72,
   "id": "66c012f2",
   "metadata": {},
   "outputs": [],
   "source": [
    "num_attributes = df_raw.select_dtypes( include = ['int64', 'float64'])\n",
    "cat_attributes = df_raw.select_dtypes( exclude = ['int64', 'float64', 'datetime64[ns]'])"
   ]
  },
  {
   "cell_type": "code",
   "execution_count": 73,
   "id": "841eaed8",
   "metadata": {},
   "outputs": [
    {
     "data": {
      "text/html": [
       "<div>\n",
       "<style scoped>\n",
       "    .dataframe tbody tr th:only-of-type {\n",
       "        vertical-align: middle;\n",
       "    }\n",
       "\n",
       "    .dataframe tbody tr th {\n",
       "        vertical-align: top;\n",
       "    }\n",
       "\n",
       "    .dataframe thead th {\n",
       "        text-align: right;\n",
       "    }\n",
       "</style>\n",
       "<table border=\"1\" class=\"dataframe\">\n",
       "  <thead>\n",
       "    <tr style=\"text-align: right;\">\n",
       "      <th></th>\n",
       "      <th>store</th>\n",
       "      <th>competition_distance</th>\n",
       "      <th>competition_open_since_month</th>\n",
       "      <th>competition_open_since_year</th>\n",
       "      <th>promo2</th>\n",
       "      <th>promo2_since_week</th>\n",
       "      <th>promo2_since_year</th>\n",
       "      <th>day_of_week</th>\n",
       "      <th>sales</th>\n",
       "      <th>customers</th>\n",
       "      <th>open</th>\n",
       "      <th>promo</th>\n",
       "      <th>school_holiday</th>\n",
       "      <th>is_promo</th>\n",
       "    </tr>\n",
       "  </thead>\n",
       "  <tbody>\n",
       "    <tr>\n",
       "      <th>count</th>\n",
       "      <td>1.017209e+06</td>\n",
       "      <td>1.017209e+06</td>\n",
       "      <td>1.017209e+06</td>\n",
       "      <td>1.017209e+06</td>\n",
       "      <td>1.017209e+06</td>\n",
       "      <td>1.017209e+06</td>\n",
       "      <td>1.017209e+06</td>\n",
       "      <td>1.017209e+06</td>\n",
       "      <td>1.017209e+06</td>\n",
       "      <td>1.017209e+06</td>\n",
       "      <td>1.017209e+06</td>\n",
       "      <td>1.017209e+06</td>\n",
       "      <td>1.017209e+06</td>\n",
       "      <td>1.017209e+06</td>\n",
       "    </tr>\n",
       "    <tr>\n",
       "      <th>mean</th>\n",
       "      <td>5.584297e+02</td>\n",
       "      <td>5.467928e+03</td>\n",
       "      <td>6.786849e+00</td>\n",
       "      <td>2.010325e+03</td>\n",
       "      <td>5.005638e-01</td>\n",
       "      <td>2.361903e+01</td>\n",
       "      <td>2.012793e+03</td>\n",
       "      <td>3.998341e+00</td>\n",
       "      <td>5.773819e+03</td>\n",
       "      <td>6.331459e+02</td>\n",
       "      <td>8.301067e-01</td>\n",
       "      <td>3.815145e-01</td>\n",
       "      <td>1.786467e-01</td>\n",
       "      <td>1.718349e-01</td>\n",
       "    </tr>\n",
       "    <tr>\n",
       "      <th>std</th>\n",
       "      <td>3.219087e+02</td>\n",
       "      <td>7.740901e+03</td>\n",
       "      <td>3.311087e+00</td>\n",
       "      <td>5.515593e+00</td>\n",
       "      <td>4.999999e-01</td>\n",
       "      <td>1.431006e+01</td>\n",
       "      <td>1.662658e+00</td>\n",
       "      <td>1.997391e+00</td>\n",
       "      <td>3.849926e+03</td>\n",
       "      <td>4.644117e+02</td>\n",
       "      <td>3.755392e-01</td>\n",
       "      <td>4.857586e-01</td>\n",
       "      <td>3.830564e-01</td>\n",
       "      <td>3.772371e-01</td>\n",
       "    </tr>\n",
       "    <tr>\n",
       "      <th>min</th>\n",
       "      <td>1.000000e+00</td>\n",
       "      <td>2.000000e+01</td>\n",
       "      <td>1.000000e+00</td>\n",
       "      <td>1.900000e+03</td>\n",
       "      <td>0.000000e+00</td>\n",
       "      <td>1.000000e+00</td>\n",
       "      <td>2.009000e+03</td>\n",
       "      <td>1.000000e+00</td>\n",
       "      <td>0.000000e+00</td>\n",
       "      <td>0.000000e+00</td>\n",
       "      <td>0.000000e+00</td>\n",
       "      <td>0.000000e+00</td>\n",
       "      <td>0.000000e+00</td>\n",
       "      <td>0.000000e+00</td>\n",
       "    </tr>\n",
       "    <tr>\n",
       "      <th>25%</th>\n",
       "      <td>2.800000e+02</td>\n",
       "      <td>7.100000e+02</td>\n",
       "      <td>4.000000e+00</td>\n",
       "      <td>2.008000e+03</td>\n",
       "      <td>0.000000e+00</td>\n",
       "      <td>1.200000e+01</td>\n",
       "      <td>2.012000e+03</td>\n",
       "      <td>2.000000e+00</td>\n",
       "      <td>3.727000e+03</td>\n",
       "      <td>4.050000e+02</td>\n",
       "      <td>1.000000e+00</td>\n",
       "      <td>0.000000e+00</td>\n",
       "      <td>0.000000e+00</td>\n",
       "      <td>0.000000e+00</td>\n",
       "    </tr>\n",
       "    <tr>\n",
       "      <th>50%</th>\n",
       "      <td>5.580000e+02</td>\n",
       "      <td>2.330000e+03</td>\n",
       "      <td>7.000000e+00</td>\n",
       "      <td>2.012000e+03</td>\n",
       "      <td>1.000000e+00</td>\n",
       "      <td>2.200000e+01</td>\n",
       "      <td>2.013000e+03</td>\n",
       "      <td>4.000000e+00</td>\n",
       "      <td>5.744000e+03</td>\n",
       "      <td>6.090000e+02</td>\n",
       "      <td>1.000000e+00</td>\n",
       "      <td>0.000000e+00</td>\n",
       "      <td>0.000000e+00</td>\n",
       "      <td>0.000000e+00</td>\n",
       "    </tr>\n",
       "    <tr>\n",
       "      <th>75%</th>\n",
       "      <td>8.380000e+02</td>\n",
       "      <td>6.910000e+03</td>\n",
       "      <td>1.000000e+01</td>\n",
       "      <td>2.014000e+03</td>\n",
       "      <td>1.000000e+00</td>\n",
       "      <td>3.700000e+01</td>\n",
       "      <td>2.014000e+03</td>\n",
       "      <td>6.000000e+00</td>\n",
       "      <td>7.856000e+03</td>\n",
       "      <td>8.370000e+02</td>\n",
       "      <td>1.000000e+00</td>\n",
       "      <td>1.000000e+00</td>\n",
       "      <td>0.000000e+00</td>\n",
       "      <td>0.000000e+00</td>\n",
       "    </tr>\n",
       "    <tr>\n",
       "      <th>max</th>\n",
       "      <td>1.115000e+03</td>\n",
       "      <td>7.586000e+04</td>\n",
       "      <td>1.200000e+01</td>\n",
       "      <td>2.015000e+03</td>\n",
       "      <td>1.000000e+00</td>\n",
       "      <td>5.200000e+01</td>\n",
       "      <td>2.015000e+03</td>\n",
       "      <td>7.000000e+00</td>\n",
       "      <td>4.155100e+04</td>\n",
       "      <td>7.388000e+03</td>\n",
       "      <td>1.000000e+00</td>\n",
       "      <td>1.000000e+00</td>\n",
       "      <td>1.000000e+00</td>\n",
       "      <td>1.000000e+00</td>\n",
       "    </tr>\n",
       "  </tbody>\n",
       "</table>\n",
       "</div>"
      ],
      "text/plain": [
       "              store  competition_distance  competition_open_since_month  \\\n",
       "count  1.017209e+06          1.017209e+06                  1.017209e+06   \n",
       "mean   5.584297e+02          5.467928e+03                  6.786849e+00   \n",
       "std    3.219087e+02          7.740901e+03                  3.311087e+00   \n",
       "min    1.000000e+00          2.000000e+01                  1.000000e+00   \n",
       "25%    2.800000e+02          7.100000e+02                  4.000000e+00   \n",
       "50%    5.580000e+02          2.330000e+03                  7.000000e+00   \n",
       "75%    8.380000e+02          6.910000e+03                  1.000000e+01   \n",
       "max    1.115000e+03          7.586000e+04                  1.200000e+01   \n",
       "\n",
       "       competition_open_since_year        promo2  promo2_since_week  \\\n",
       "count                 1.017209e+06  1.017209e+06       1.017209e+06   \n",
       "mean                  2.010325e+03  5.005638e-01       2.361903e+01   \n",
       "std                   5.515593e+00  4.999999e-01       1.431006e+01   \n",
       "min                   1.900000e+03  0.000000e+00       1.000000e+00   \n",
       "25%                   2.008000e+03  0.000000e+00       1.200000e+01   \n",
       "50%                   2.012000e+03  1.000000e+00       2.200000e+01   \n",
       "75%                   2.014000e+03  1.000000e+00       3.700000e+01   \n",
       "max                   2.015000e+03  1.000000e+00       5.200000e+01   \n",
       "\n",
       "       promo2_since_year   day_of_week         sales     customers  \\\n",
       "count       1.017209e+06  1.017209e+06  1.017209e+06  1.017209e+06   \n",
       "mean        2.012793e+03  3.998341e+00  5.773819e+03  6.331459e+02   \n",
       "std         1.662658e+00  1.997391e+00  3.849926e+03  4.644117e+02   \n",
       "min         2.009000e+03  1.000000e+00  0.000000e+00  0.000000e+00   \n",
       "25%         2.012000e+03  2.000000e+00  3.727000e+03  4.050000e+02   \n",
       "50%         2.013000e+03  4.000000e+00  5.744000e+03  6.090000e+02   \n",
       "75%         2.014000e+03  6.000000e+00  7.856000e+03  8.370000e+02   \n",
       "max         2.015000e+03  7.000000e+00  4.155100e+04  7.388000e+03   \n",
       "\n",
       "               open         promo  school_holiday      is_promo  \n",
       "count  1.017209e+06  1.017209e+06    1.017209e+06  1.017209e+06  \n",
       "mean   8.301067e-01  3.815145e-01    1.786467e-01  1.718349e-01  \n",
       "std    3.755392e-01  4.857586e-01    3.830564e-01  3.772371e-01  \n",
       "min    0.000000e+00  0.000000e+00    0.000000e+00  0.000000e+00  \n",
       "25%    1.000000e+00  0.000000e+00    0.000000e+00  0.000000e+00  \n",
       "50%    1.000000e+00  0.000000e+00    0.000000e+00  0.000000e+00  \n",
       "75%    1.000000e+00  1.000000e+00    0.000000e+00  0.000000e+00  \n",
       "max    1.000000e+00  1.000000e+00    1.000000e+00  1.000000e+00  "
      ]
     },
     "execution_count": 73,
     "metadata": {},
     "output_type": "execute_result"
    }
   ],
   "source": [
    "num_attributes.describe()"
   ]
  },
  {
   "cell_type": "code",
   "execution_count": 74,
   "id": "bf1dd4e8",
   "metadata": {},
   "outputs": [],
   "source": [
    "# Central Tendency\n",
    "mean   = pd.DataFrame( num_attributes.apply( np.mean ) ).T\n",
    "median = pd.DataFrame( num_attributes.apply( np.median ) ).T\n",
    "\n",
    "# Dispersion - std, min, max, range, skew, kurtosis,\n",
    "std      = pd.DataFrame( num_attributes.apply( np.std ) ).T\n",
    "minimum  = pd.DataFrame( num_attributes.apply( min ) ).T\n",
    "maximum  = pd.DataFrame( num_attributes.apply( max ) ).T\n",
    "range_   = pd.DataFrame( num_attributes.apply( lambda x: x.max() - x.min() ) ).T\n",
    "skew     = pd.DataFrame( num_attributes.apply( lambda x: x.skew() ) ).T\n",
    "kurtosis = pd.DataFrame( num_attributes.apply( lambda x: x.kurtosis() ) ).T\n",
    "\n",
    "metrics = pd.concat( [mean, median, std, minimum, maximum, range_, skew, kurtosis] ).T.reset_index()"
   ]
  },
  {
   "cell_type": "code",
   "execution_count": 75,
   "id": "59b661e6",
   "metadata": {},
   "outputs": [
    {
     "data": {
      "text/html": [
       "<div>\n",
       "<style scoped>\n",
       "    .dataframe tbody tr th:only-of-type {\n",
       "        vertical-align: middle;\n",
       "    }\n",
       "\n",
       "    .dataframe tbody tr th {\n",
       "        vertical-align: top;\n",
       "    }\n",
       "\n",
       "    .dataframe thead th {\n",
       "        text-align: right;\n",
       "    }\n",
       "</style>\n",
       "<table border=\"1\" class=\"dataframe\">\n",
       "  <thead>\n",
       "    <tr style=\"text-align: right;\">\n",
       "      <th></th>\n",
       "      <th>index</th>\n",
       "      <th>0</th>\n",
       "      <th>0</th>\n",
       "      <th>0</th>\n",
       "      <th>0</th>\n",
       "      <th>0</th>\n",
       "      <th>0</th>\n",
       "      <th>0</th>\n",
       "      <th>0</th>\n",
       "    </tr>\n",
       "  </thead>\n",
       "  <tbody>\n",
       "    <tr>\n",
       "      <th>0</th>\n",
       "      <td>store</td>\n",
       "      <td>558.429727</td>\n",
       "      <td>558.0</td>\n",
       "      <td>321.908493</td>\n",
       "      <td>1.0</td>\n",
       "      <td>1115.0</td>\n",
       "      <td>1114.0</td>\n",
       "      <td>-0.000955</td>\n",
       "      <td>-1.200524</td>\n",
       "    </tr>\n",
       "    <tr>\n",
       "      <th>1</th>\n",
       "      <td>competition_distance</td>\n",
       "      <td>5467.928135</td>\n",
       "      <td>2330.0</td>\n",
       "      <td>7740.896804</td>\n",
       "      <td>20.0</td>\n",
       "      <td>75860.0</td>\n",
       "      <td>75840.0</td>\n",
       "      <td>2.894723</td>\n",
       "      <td>12.724442</td>\n",
       "    </tr>\n",
       "    <tr>\n",
       "      <th>2</th>\n",
       "      <td>competition_open_since_month</td>\n",
       "      <td>6.786849</td>\n",
       "      <td>7.0</td>\n",
       "      <td>3.311085</td>\n",
       "      <td>1.0</td>\n",
       "      <td>12.0</td>\n",
       "      <td>11.0</td>\n",
       "      <td>-0.042076</td>\n",
       "      <td>-1.232607</td>\n",
       "    </tr>\n",
       "    <tr>\n",
       "      <th>3</th>\n",
       "      <td>competition_open_since_year</td>\n",
       "      <td>2010.324840</td>\n",
       "      <td>2012.0</td>\n",
       "      <td>5.515591</td>\n",
       "      <td>1900.0</td>\n",
       "      <td>2015.0</td>\n",
       "      <td>115.0</td>\n",
       "      <td>-7.235657</td>\n",
       "      <td>124.071304</td>\n",
       "    </tr>\n",
       "    <tr>\n",
       "      <th>4</th>\n",
       "      <td>promo2</td>\n",
       "      <td>0.500564</td>\n",
       "      <td>1.0</td>\n",
       "      <td>0.500000</td>\n",
       "      <td>0.0</td>\n",
       "      <td>1.0</td>\n",
       "      <td>1.0</td>\n",
       "      <td>-0.002255</td>\n",
       "      <td>-1.999999</td>\n",
       "    </tr>\n",
       "    <tr>\n",
       "      <th>5</th>\n",
       "      <td>promo2_since_week</td>\n",
       "      <td>23.619033</td>\n",
       "      <td>22.0</td>\n",
       "      <td>14.310057</td>\n",
       "      <td>1.0</td>\n",
       "      <td>52.0</td>\n",
       "      <td>51.0</td>\n",
       "      <td>0.178723</td>\n",
       "      <td>-1.184046</td>\n",
       "    </tr>\n",
       "    <tr>\n",
       "      <th>6</th>\n",
       "      <td>promo2_since_year</td>\n",
       "      <td>2012.793297</td>\n",
       "      <td>2013.0</td>\n",
       "      <td>1.662657</td>\n",
       "      <td>2009.0</td>\n",
       "      <td>2015.0</td>\n",
       "      <td>6.0</td>\n",
       "      <td>-0.784436</td>\n",
       "      <td>-0.210075</td>\n",
       "    </tr>\n",
       "    <tr>\n",
       "      <th>7</th>\n",
       "      <td>day_of_week</td>\n",
       "      <td>3.998341</td>\n",
       "      <td>4.0</td>\n",
       "      <td>1.997390</td>\n",
       "      <td>1.0</td>\n",
       "      <td>7.0</td>\n",
       "      <td>6.0</td>\n",
       "      <td>0.001593</td>\n",
       "      <td>-1.246873</td>\n",
       "    </tr>\n",
       "    <tr>\n",
       "      <th>8</th>\n",
       "      <td>sales</td>\n",
       "      <td>5773.818972</td>\n",
       "      <td>5744.0</td>\n",
       "      <td>3849.924283</td>\n",
       "      <td>0.0</td>\n",
       "      <td>41551.0</td>\n",
       "      <td>41551.0</td>\n",
       "      <td>0.641460</td>\n",
       "      <td>1.778375</td>\n",
       "    </tr>\n",
       "    <tr>\n",
       "      <th>9</th>\n",
       "      <td>customers</td>\n",
       "      <td>633.145946</td>\n",
       "      <td>609.0</td>\n",
       "      <td>464.411506</td>\n",
       "      <td>0.0</td>\n",
       "      <td>7388.0</td>\n",
       "      <td>7388.0</td>\n",
       "      <td>1.598650</td>\n",
       "      <td>7.091773</td>\n",
       "    </tr>\n",
       "    <tr>\n",
       "      <th>10</th>\n",
       "      <td>open</td>\n",
       "      <td>0.830107</td>\n",
       "      <td>1.0</td>\n",
       "      <td>0.375539</td>\n",
       "      <td>0.0</td>\n",
       "      <td>1.0</td>\n",
       "      <td>1.0</td>\n",
       "      <td>-1.758045</td>\n",
       "      <td>1.090723</td>\n",
       "    </tr>\n",
       "    <tr>\n",
       "      <th>11</th>\n",
       "      <td>promo</td>\n",
       "      <td>0.381515</td>\n",
       "      <td>0.0</td>\n",
       "      <td>0.485758</td>\n",
       "      <td>0.0</td>\n",
       "      <td>1.0</td>\n",
       "      <td>1.0</td>\n",
       "      <td>0.487838</td>\n",
       "      <td>-1.762018</td>\n",
       "    </tr>\n",
       "    <tr>\n",
       "      <th>12</th>\n",
       "      <td>school_holiday</td>\n",
       "      <td>0.178647</td>\n",
       "      <td>0.0</td>\n",
       "      <td>0.383056</td>\n",
       "      <td>0.0</td>\n",
       "      <td>1.0</td>\n",
       "      <td>1.0</td>\n",
       "      <td>1.677842</td>\n",
       "      <td>0.815154</td>\n",
       "    </tr>\n",
       "    <tr>\n",
       "      <th>13</th>\n",
       "      <td>is_promo</td>\n",
       "      <td>0.171835</td>\n",
       "      <td>0.0</td>\n",
       "      <td>0.377237</td>\n",
       "      <td>0.0</td>\n",
       "      <td>1.0</td>\n",
       "      <td>1.0</td>\n",
       "      <td>1.739838</td>\n",
       "      <td>1.027039</td>\n",
       "    </tr>\n",
       "  </tbody>\n",
       "</table>\n",
       "</div>"
      ],
      "text/plain": [
       "                           index            0       0            0       0  \\\n",
       "0                          store   558.429727   558.0   321.908493     1.0   \n",
       "1           competition_distance  5467.928135  2330.0  7740.896804    20.0   \n",
       "2   competition_open_since_month     6.786849     7.0     3.311085     1.0   \n",
       "3    competition_open_since_year  2010.324840  2012.0     5.515591  1900.0   \n",
       "4                         promo2     0.500564     1.0     0.500000     0.0   \n",
       "5              promo2_since_week    23.619033    22.0    14.310057     1.0   \n",
       "6              promo2_since_year  2012.793297  2013.0     1.662657  2009.0   \n",
       "7                    day_of_week     3.998341     4.0     1.997390     1.0   \n",
       "8                          sales  5773.818972  5744.0  3849.924283     0.0   \n",
       "9                      customers   633.145946   609.0   464.411506     0.0   \n",
       "10                          open     0.830107     1.0     0.375539     0.0   \n",
       "11                         promo     0.381515     0.0     0.485758     0.0   \n",
       "12                school_holiday     0.178647     0.0     0.383056     0.0   \n",
       "13                      is_promo     0.171835     0.0     0.377237     0.0   \n",
       "\n",
       "          0        0         0           0  \n",
       "0    1115.0   1114.0 -0.000955   -1.200524  \n",
       "1   75860.0  75840.0  2.894723   12.724442  \n",
       "2      12.0     11.0 -0.042076   -1.232607  \n",
       "3    2015.0    115.0 -7.235657  124.071304  \n",
       "4       1.0      1.0 -0.002255   -1.999999  \n",
       "5      52.0     51.0  0.178723   -1.184046  \n",
       "6    2015.0      6.0 -0.784436   -0.210075  \n",
       "7       7.0      6.0  0.001593   -1.246873  \n",
       "8   41551.0  41551.0  0.641460    1.778375  \n",
       "9    7388.0   7388.0  1.598650    7.091773  \n",
       "10      1.0      1.0 -1.758045    1.090723  \n",
       "11      1.0      1.0  0.487838   -1.762018  \n",
       "12      1.0      1.0  1.677842    0.815154  \n",
       "13      1.0      1.0  1.739838    1.027039  "
      ]
     },
     "execution_count": 75,
     "metadata": {},
     "output_type": "execute_result"
    }
   ],
   "source": [
    "metrics"
   ]
  },
  {
   "cell_type": "code",
   "execution_count": 76,
   "id": "7d35fa9c",
   "metadata": {},
   "outputs": [],
   "source": [
    "metrics.columns = ['column', 'mean', 'median', 'std', 'min', 'max', 'range', 'skew', 'kurtosis']"
   ]
  },
  {
   "cell_type": "code",
   "execution_count": 77,
   "id": "ab03c978",
   "metadata": {},
   "outputs": [
    {
     "data": {
      "image/png": "[encoded data removed]",
      "text/plain": [
       "<Figure size 720x576 with 1 Axes>"
      ]
     },
     "metadata": {
      "needs_background": "light"
     },
     "output_type": "display_data"
    }
   ],
   "source": [
    "plt.figure( figsize = ( 10, 8 ) )\n",
    "sns.histplot( data=df_raw['sales'] );"
   ]
  },
  {
   "cell_type": "code",
   "execution_count": 78,
   "id": "09672070",
   "metadata": {},
   "outputs": [
    {
     "data": {
      "text/html": [
       "<div>\n",
       "<style scoped>\n",
       "    .dataframe tbody tr th:only-of-type {\n",
       "        vertical-align: middle;\n",
       "    }\n",
       "\n",
       "    .dataframe tbody tr th {\n",
       "        vertical-align: top;\n",
       "    }\n",
       "\n",
       "    .dataframe thead th {\n",
       "        text-align: right;\n",
       "    }\n",
       "</style>\n",
       "<table border=\"1\" class=\"dataframe\">\n",
       "  <thead>\n",
       "    <tr style=\"text-align: right;\">\n",
       "      <th></th>\n",
       "      <th>store_type</th>\n",
       "      <th>assortment</th>\n",
       "      <th>promo_interval</th>\n",
       "      <th>state_holiday</th>\n",
       "      <th>month_map</th>\n",
       "    </tr>\n",
       "  </thead>\n",
       "  <tbody>\n",
       "    <tr>\n",
       "      <th>0</th>\n",
       "      <td>c</td>\n",
       "      <td>a</td>\n",
       "      <td>0</td>\n",
       "      <td>0</td>\n",
       "      <td>Jul</td>\n",
       "    </tr>\n",
       "    <tr>\n",
       "      <th>1</th>\n",
       "      <td>c</td>\n",
       "      <td>a</td>\n",
       "      <td>0</td>\n",
       "      <td>0</td>\n",
       "      <td>Jul</td>\n",
       "    </tr>\n",
       "    <tr>\n",
       "      <th>2</th>\n",
       "      <td>c</td>\n",
       "      <td>a</td>\n",
       "      <td>0</td>\n",
       "      <td>0</td>\n",
       "      <td>Jul</td>\n",
       "    </tr>\n",
       "    <tr>\n",
       "      <th>3</th>\n",
       "      <td>c</td>\n",
       "      <td>a</td>\n",
       "      <td>0</td>\n",
       "      <td>0</td>\n",
       "      <td>Jul</td>\n",
       "    </tr>\n",
       "    <tr>\n",
       "      <th>4</th>\n",
       "      <td>c</td>\n",
       "      <td>a</td>\n",
       "      <td>0</td>\n",
       "      <td>0</td>\n",
       "      <td>Jul</td>\n",
       "    </tr>\n",
       "  </tbody>\n",
       "</table>\n",
       "</div>"
      ],
      "text/plain": [
       "  store_type assortment promo_interval state_holiday month_map\n",
       "0          c          a              0             0       Jul\n",
       "1          c          a              0             0       Jul\n",
       "2          c          a              0             0       Jul\n",
       "3          c          a              0             0       Jul\n",
       "4          c          a              0             0       Jul"
      ]
     },
     "execution_count": 78,
     "metadata": {},
     "output_type": "execute_result"
    }
   ],
   "source": [
    "cat_attributes.head()"
   ]
  },
  {
   "cell_type": "code",
   "execution_count": 135,
   "id": "9625d19d",
   "metadata": {},
   "outputs": [
    {
     "data": {
      "text/plain": [
       "''"
      ]
     },
     "execution_count": 135,
     "metadata": {},
     "output_type": "execute_result"
    },
    {
     "data": {
      "image/png": "[encoded data removed]",
      "text/plain": [
       "<Figure size 1440x720 with 4 Axes>"
      ]
     },
     "metadata": {
      "needs_background": "light"
     },
     "output_type": "display_data"
    }
   ],
   "source": [
    "plt.figure(figsize=(20, 10))\n",
    "plt.GridSpec(1, 2)\n",
    "\n",
    "plt.subplot(1, 4, 1)\n",
    "aux1 = df_raw[(df_raw['sales'] > 0) & (df_raw['state_holiday'] != '0')]\n",
    "sns.boxplot (data=aux1, x='state_holiday', y='sales' )\n",
    "\n",
    "plt.subplot(1, 4, 2)\n",
    "aux2 = df_raw[(df_raw['sales'] > 0) & (df_raw['promo_interval'] != 0)]\n",
    "sns.boxplot(data=aux1, x='promo_interval', y='sales')\n",
    "plt.xticks(rotation=90)\n",
    "\n",
    "plt.subplot(1, 4, 3)\n",
    "aux3 = df_raw[(df_raw['sales'] > 0) & (df_raw['store_type'] != '0')]\n",
    "sns.boxplot(data=aux1, x='store_type', y='sales')\n",
    "\n",
    "plt.subplot(1, 4, 4)\n",
    "aux4 = df_raw[(df_raw['sales'] > 0) & (df_raw['assortment'] != '0')]\n",
    "sns.boxplot(data=aux1, x='assortment', y='sales')\n",
    "\n",
    "\n",
    ";"
   ]
  },
  {
   "cell_type": "markdown",
   "id": "801e8754",
   "metadata": {},
   "source": [
    "# 3. FEATURE ENGINEERING "
   ]
  },
  {
   "cell_type": "markdown",
   "id": "a13e99f5",
   "metadata": {},
   "source": [
    "## 3.1 HIPÓTESES A SEREM TESTADAS"
   ]
  },
  {
   "cell_type": "markdown",
   "id": "08c1f213",
   "metadata": {},
   "source": [
    "1. Lojas com maior sortimento deveriam vender mais\n",
    "2. Lojas com competidores mais próximos deveriam vender menos\n",
    "3. Lojas com competidores à mais tempo vendem mais.\n",
    "4. Lojas com promoções ativas por mais tempo deveriam vender mais\n",
    "5. Lojas com mais dias de promoção deveriam vender mais.\n",
    "6. Lojas com mais promoções consecutivas deveriam vender mais.\n",
    "7. Lojas abertas durante o feriado de Natal deveriam vender mais.\n",
    "8. Lojas deveriam vender mais ao longo dos anos\n",
    "9. Lojas deveriam vender mais no segundo semestre do ano.\n",
    "10. Lojas deveriam vender mais depois do dia 10 de cada mês.\n",
    "11. Lojas deveriam vender menos aos finais de semana\n",
    "12. Lojas deveriam vender menos durante os feriados escolares."
   ]
  },
  {
   "cell_type": "code",
   "execution_count": 80,
   "id": "5ab6f873",
   "metadata": {},
   "outputs": [],
   "source": [
    "df1 = df_raw.copy()"
   ]
  },
  {
   "cell_type": "markdown",
   "id": "688ab868",
   "metadata": {},
   "source": [
    "## 3.2 FEATURE ENGINEERING"
   ]
  },
  {
   "cell_type": "code",
   "execution_count": 81,
   "id": "76d01131",
   "metadata": {},
   "outputs": [
    {
     "data": {
      "text/plain": [
       "0   2015-07-31\n",
       "1   2015-07-30\n",
       "2   2015-07-29\n",
       "3   2015-07-28\n",
       "4   2015-07-27\n",
       "Name: date, dtype: datetime64[ns]"
      ]
     },
     "execution_count": 81,
     "metadata": {},
     "output_type": "execute_result"
    }
   ],
   "source": [
    "df1['date'].head()"
   ]
  },
  {
   "cell_type": "code",
   "execution_count": 94,
   "id": "58ffa36c",
   "metadata": {},
   "outputs": [
    {
     "data": {
      "text/plain": [
       "store                                    int64\n",
       "store_type                              object\n",
       "assortment                              object\n",
       "competition_distance                     int64\n",
       "competition_open_since_month             int64\n",
       "competition_open_since_year              int64\n",
       "promo2                                   int64\n",
       "promo2_since_week                        int64\n",
       "promo2_since_year                        int64\n",
       "promo_interval                          object\n",
       "day_of_week                              int64\n",
       "date                            datetime64[ns]\n",
       "sales                                    int64\n",
       "customers                                int64\n",
       "open                                     int64\n",
       "promo                                    int64\n",
       "state_holiday                           object\n",
       "school_holiday                           int64\n",
       "month_map                               object\n",
       "is_promo                                 int64\n",
       "year                                     int64\n",
       "month                                    int64\n",
       "week                                     int64\n",
       "year_week                               object\n",
       "competition_since               datetime64[ns]\n",
       "competition_time_month                   int32\n",
       "promo_since                             object\n",
       "dtype: object"
      ]
     },
     "execution_count": 94,
     "metadata": {},
     "output_type": "execute_result"
    }
   ],
   "source": [
    "df1.dtypes"
   ]
  },
  {
   "cell_type": "code",
   "execution_count": 122,
   "id": "4ae14af0",
   "metadata": {},
   "outputs": [],
   "source": [
    "#year\n",
    "df1['year'] = df1['date'].dt.year\n",
    "\n",
    "# month\n",
    "df1['month'] = df1['date'].dt.month\n",
    "\n",
    "# week of year\n",
    "df1['week'] = df1['date'].dt.isocalendar().week\n",
    "\n",
    "#year week\n",
    "df1['year_week'] = df1['date'].dt.strftime( '%Y-%W')\n",
    "\n",
    "# competition_since\n",
    "df1['competition_since'] = df1.apply(lambda x: datetime(year = x['competition_open_since_year'], month = x['competition_open_since_month'], day=1), axis = 1)\n",
    "df1['competition_time_month'] =  ((df1['date'] - df1['competition_since'] ) / 30 ).apply(lambda x: x.days).astype( int )\n",
    "\n",
    "#---------------------------------------------------------------------------------------------\n",
    "# promo since\n",
    "df1['promo_since'] = df1['promo2_since_year'].astype( str ) + '-' + df1['promo2_since_week'].astype( str )\n",
    "df1['promo_since'] = df1['promo_since'].apply( lambda x: datetime.strptime(x + '-1', '%Y-%W-%w') - timedelta(days=7))\n",
    "df1['promo_since'] = df1['promo_since'].apply( lambda x: x - timedelta(days=7))\n",
    "\n",
    "\n",
    "df1['promo_time_week'] = ( ( df1['date'] - df1['promo_since'] ) / 7 ).apply( lambda x: x.days ).astype( int )\n",
    "\n",
    "# assortment describes an assortment level: a = basic, b = extra, c = extended\n",
    "df1['assortment'] = df1['assortment'].apply (lambda x: 'basic' if x == 'a' else 'extra' if x == 'b' else 'extended')\n",
    "\n",
    "#state holiday a = public holiday, b = Easter holiday, c = Christmas, 0 = None\n",
    "df1['state_holiday'] = df1['state_holiday'].apply(lambda x: 'public_holiday' if x == 'a' else 'easter_holiday' if x == 'b' else 'chistmas' if x == 'c' else 'regular_day')"
   ]
  },
  {
   "cell_type": "markdown",
   "id": "20d602c5",
   "metadata": {},
   "source": [
    "# 4. FILTRAGEM DAS VARIÁVEIS"
   ]
  },
  {
   "cell_type": "code",
   "execution_count": 104,
   "id": "55c9c192",
   "metadata": {},
   "outputs": [],
   "source": [
    "df2 = df1.copy()"
   ]
  },
  {
   "cell_type": "markdown",
   "id": "d11bde23",
   "metadata": {},
   "source": [
    "## 4.1 FILTRAGEM DAS LINHAS"
   ]
  },
  {
   "cell_type": "code",
   "execution_count": 111,
   "id": "991dda61",
   "metadata": {},
   "outputs": [],
   "source": [
    "df2 = df2[( df2['open'] != 0) & (df2['sales'] > 0) ]"
   ]
  },
  {
   "cell_type": "markdown",
   "id": "61f9e96b",
   "metadata": {},
   "source": [
    "## 4.2 SELEÇÃO DAS COLUNAS"
   ]
  },
  {
   "cell_type": "code",
   "execution_count": 113,
   "id": "79fdcf2f",
   "metadata": {},
   "outputs": [],
   "source": [
    "df2.drop(columns=['customers','open', 'month_map', 'promo_interval'], inplace=True)"
   ]
  },
  {
   "cell_type": "markdown",
   "id": "176f38f3",
   "metadata": {},
   "source": [
    "#  5. ANÁLISE EXPLORATÓRIA DE DADOS"
   ]
  },
  {
   "cell_type": "code",
   "execution_count": 116,
   "id": "c63c9df1",
   "metadata": {},
   "outputs": [],
   "source": [
    "df3 = df2.copy()"
   ]
  },
  {
   "cell_type": "markdown",
   "id": "3635d37f",
   "metadata": {},
   "source": [
    "## 5.1 ANÁLISE UNIVARIADA"
   ]
  },
  {
   "cell_type": "markdown",
   "id": "ee6da1a7",
   "metadata": {},
   "source": [
    "### 5.1.1 RESPONSE VARIABLE"
   ]
  },
  {
   "cell_type": "code",
   "execution_count": 151,
   "id": "953d3194",
   "metadata": {},
   "outputs": [
    {
     "data": {
      "image/png": "[encoded data removed]",
      "text/plain": [
       "<Figure size 1080x360 with 1 Axes>"
      ]
     },
     "metadata": {
      "needs_background": "light"
     },
     "output_type": "display_data"
    }
   ],
   "source": [
    "sns.displot(np.log1p(df3['sales']), aspect=3, kind='kde'); # o plt figure figsize não funcionou aqui então tiver que setar o tamanho pelo seaborn"
   ]
  },
  {
   "cell_type": "markdown",
   "id": "57deee7d",
   "metadata": {},
   "source": [
    "### 5.1.2 NUMERICAL VARIABLE"
   ]
  },
  {
   "cell_type": "code",
   "execution_count": 153,
   "id": "4f18e50f",
   "metadata": {},
   "outputs": [
    {
     "name": "stderr",
     "output_type": "stream",
     "text": [
      "C:\\Users\\vnsou\\AppData\\Local\\Temp/ipykernel_12484/3026510270.py:3: UserWarning: To output multiple subplots, the figure containing the passed axes is being cleared.\n",
      "  num_attributes.hist(ax = ax, bins =25);\n"
     ]
    },
    {
     "data": {
      "image/png": "[encoded data removed]",
      "text/plain": [
       "<Figure size 2160x1080 with 16 Axes>"
      ]
     },
     "metadata": {
      "needs_background": "light"
     },
     "output_type": "display_data"
    }
   ],
   "source": [
    "fig = plt.figure(figsize = (30, 15))\n",
    "ax = fig.gca() # aqui o figure figsize também não funcionou e essa foi a forma que achei de mudar o tamanho do plot\n",
    "num_attributes.hist(ax = ax, bins =25);"
   ]
  },
  {
   "cell_type": "markdown",
   "id": "a479d8b7",
   "metadata": {},
   "source": [
    "### 5.1.2 CATEGORICAL VARIABLE"
   ]
  },
  {
   "cell_type": "code",
   "execution_count": null,
   "id": "93c176c2",
   "metadata": {},
   "outputs": [],
   "source": [
    "df3['state_holiday'].head()"
   ]
  },
  {
   "cell_type": "code",
   "execution_count": null,
   "id": "cafe4f95",
   "metadata": {},
   "outputs": [],
   "source": [
    "sns.set_style('whitegrid', {'grid.color': '.7'})"
   ]
  },
  {
   "cell_type": "code",
   "execution_count": 175,
   "id": "14ab4db1",
   "metadata": {},
   "outputs": [
    {
     "data": {
      "text/plain": [
       "<AxesSubplot:xlabel='state_holiday', ylabel='count'>"
      ]
     },
     "execution_count": 175,
     "metadata": {},
     "output_type": "execute_result"
    },
    {
     "data": {
      "image/png": "[encoded data removed]",
      "text/plain": [
       "<Figure size 1440x576 with 1 Axes>"
      ]
     },
     "metadata": {},
     "output_type": "display_data"
    }
   ],
   "source": [
    "plt.figure(figsize=(20, 8))\n",
    "\n",
    "plt.suplot(1, 2, 1)\n",
    "#a = df3[df3['state_holiday'] != 'regular_day']\n",
    "#sns.countplot(a['state_holiday'])\n",
    "sns.countplot(df3[df3['state_holiday'] != 'regular_day'])\n",
    "\n",
    "plt.subplot(1, 2, 2)\n",
    "sns.kdeplot(df3[df3['state_holiday'] == 'public_holiday']['sales'], label='public_holiday', shade=True)\n",
    "sns.kdeplot(df3[df3['state_holiday'] == 'easter_holiday']['sales'], label='easter_holiday', shade=True)\n",
    "sns.kdeplot(df3[df3['state_holiday'] == 'ch']['sales'], label='regular_day', shade=True)"
   ]
  },
  {
   "cell_type": "code",
   "execution_count": 176,
   "id": "c93df839",
   "metadata": {},
   "outputs": [
    {
     "data": {
      "text/plain": [
       "<AxesSubplot:xlabel='sales', ylabel='Density'>"
      ]
     },
     "execution_count": 176,
     "metadata": {},
     "output_type": "execute_result"
    },
    {
     "data": {
      "image/png": "[encoded data removed]",
      "text/plain": [
       "<Figure size 432x288 with 1 Axes>"
      ]
     },
     "metadata": {},
     "output_type": "display_data"
    }
   ],
   "source": []
  },
  {
   "cell_type": "code",
   "execution_count": null,
   "id": "3bbc0b8d",
   "metadata": {},
   "outputs": [],
   "source": [
    "sns.kdeplot(data=df3)"
   ]
  },
  {
   "cell_type": "code",
   "execution_count": null,
   "id": "aa82a7be",
   "metadata": {},
   "outputs": [],
   "source": []
  },
  {
   "cell_type": "code",
   "execution_count": null,
   "id": "74384526",
   "metadata": {},
   "outputs": [],
   "source": []
  },
  {
   "cell_type": "code",
   "execution_count": null,
   "id": "407ed292",
   "metadata": {},
   "outputs": [],
   "source": []
  },
  {
   "cell_type": "code",
   "execution_count": null,
   "id": "7f98829e",
   "metadata": {},
   "outputs": [],
   "source": []
  }
 ],
 "metadata": {
  "kernelspec": {
   "display_name": "Python 3 (ipykernel)",
   "language": "python",
   "name": "python3"
  },
  "language_info": {
   "codemirror_mode": {
    "name": "ipython",
    "version": 3
   },
   "file_extension": ".py",
   "mimetype": "text/x-python",
   "name": "python",
   "nbconvert_exporter": "python",
   "pygments_lexer": "ipython3",
   "version": "3.9.7"
  }
 },
 "nbformat": 4,
 "nbformat_minor": 5
}
