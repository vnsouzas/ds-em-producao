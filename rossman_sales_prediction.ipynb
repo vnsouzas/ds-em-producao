{
 "cells": [
  {
   "cell_type": "markdown",
   "id": "392d15c1",
   "metadata": {},
   "source": [
    "# 1. IMPORTS "
   ]
  },
  {
   "cell_type": "code",
   "execution_count": 12,
   "id": "28fb6ac4",
   "metadata": {},
   "outputs": [],
   "source": [
    "import pandas as pd\n",
    "from inflection import underscore"
   ]
  },
  {
   "cell_type": "markdown",
   "id": "e530c08b",
   "metadata": {},
   "source": [
    "## 1. 1 HELPER FUNCTIONS"
   ]
  },
  {
   "cell_type": "code",
   "execution_count": 84,
   "id": "e9c940ca",
   "metadata": {},
   "outputs": [],
   "source": [
    "pd.set_option('display.max_rows', 100)"
   ]
  },
  {
   "cell_type": "markdown",
   "id": "0730c019",
   "metadata": {
    "heading_collapsed": true
   },
   "source": [
    "## 1.2 LOADING DATA"
   ]
  },
  {
   "cell_type": "code",
   "execution_count": 10,
   "id": "28add2c9",
   "metadata": {
    "hidden": true
   },
   "outputs": [],
   "source": [
    "df_store = pd.read_csv('./datasets/store.csv', low_memory = False)\n",
    "df_train = pd.read_csv('./datasets/train.csv', low_memory = False)\n",
    "df_raw = df_store.merge(df_train, how='left', on='Store')"
   ]
  },
  {
   "cell_type": "markdown",
   "id": "cf49b212",
   "metadata": {},
   "source": [
    "# 2. DATA DESCRIPTION "
   ]
  },
  {
   "cell_type": "markdown",
   "id": "66e00783",
   "metadata": {},
   "source": [
    "## 2.1 RENAME COLUMNS"
   ]
  },
  {
   "cell_type": "code",
   "execution_count": 13,
   "id": "d5f3a343",
   "metadata": {},
   "outputs": [],
   "source": [
    "# Trasorming columns names into snake_case\n",
    "old_cols = df_raw.columns.to_list()\n",
    "new_cols = [underscore(w) for w in old_cols]\n",
    "df_raw.columns = new_cols"
   ]
  },
  {
   "cell_type": "markdown",
   "id": "dc862821",
   "metadata": {},
   "source": [
    "## 2.2 DATA DIMENSIONS"
   ]
  },
  {
   "cell_type": "code",
   "execution_count": 20,
   "id": "da501266",
   "metadata": {},
   "outputs": [
    {
     "name": "stdout",
     "output_type": "stream",
     "text": [
      "Dataset has 1017209 lines and 18 columns\n"
     ]
    }
   ],
   "source": [
    "print(f'Dataset has {df_raw.shape[0]} lines and {df_raw.shape[1]} columns')"
   ]
  },
  {
   "cell_type": "markdown",
   "id": "828d9b3f",
   "metadata": {},
   "source": [
    "## 2.3 CHECK DTYPES"
   ]
  },
  {
   "cell_type": "code",
   "execution_count": 31,
   "id": "93fedcc6",
   "metadata": {},
   "outputs": [
    {
     "data": {
      "text/plain": [
       "store                                    int64\n",
       "store_type                              object\n",
       "assortment                              object\n",
       "competition_distance                   float64\n",
       "competition_open_since_month           float64\n",
       "competition_open_since_year            float64\n",
       "promo2                                   int64\n",
       "promo2_since_week                      float64\n",
       "promo2_since_year                      float64\n",
       "promo_interval                          object\n",
       "day_of_week                              int64\n",
       "date                            datetime64[ns]\n",
       "sales                                    int64\n",
       "customers                                int64\n",
       "open                                     int64\n",
       "promo                                    int64\n",
       "state_holiday                           object\n",
       "school_holiday                           int64\n",
       "dtype: object"
      ]
     },
     "execution_count": 31,
     "metadata": {},
     "output_type": "execute_result"
    }
   ],
   "source": [
    "df_raw.dtypes"
   ]
  },
  {
   "cell_type": "markdown",
   "id": "d4cd25c8",
   "metadata": {},
   "source": [
    "## 2.4 CHECK NA"
   ]
  },
  {
   "cell_type": "code",
   "execution_count": 32,
   "id": "020c1493",
   "metadata": {},
   "outputs": [
    {
     "data": {
      "text/plain": [
       "store                                0\n",
       "store_type                           0\n",
       "assortment                           0\n",
       "competition_distance              2642\n",
       "competition_open_since_month    323348\n",
       "competition_open_since_year     323348\n",
       "promo2                               0\n",
       "promo2_since_week               508031\n",
       "promo2_since_year               508031\n",
       "promo_interval                  508031\n",
       "day_of_week                          0\n",
       "date                                 0\n",
       "sales                                0\n",
       "customers                            0\n",
       "open                                 0\n",
       "promo                                0\n",
       "state_holiday                        0\n",
       "school_holiday                       0\n",
       "dtype: int64"
      ]
     },
     "execution_count": 32,
     "metadata": {},
     "output_type": "execute_result"
    }
   ],
   "source": [
    "df_raw.isna().sum()"
   ]
  },
  {
   "cell_type": "markdown",
   "id": "4d794dd3",
   "metadata": {},
   "source": [
    "## 2.5 FILL NA VALUES"
   ]
  },
  {
   "cell_type": "code",
   "execution_count": 52,
   "id": "6c39edf7",
   "metadata": {},
   "outputs": [],
   "source": [
    "# competition_distance ( vamos trocar os NA's por uma distnacia muito grande, presumindo que não exista competição próxima)\n",
    "df_raw['competition_distance'] = df_raw['competition_distance'].apply(lambda x: 20000 if pd.isna( x ) else x).astype('int64')\n",
    "\n",
    "# competition_open_since_month ( qunando for NA vamos substituir pelo mês da data atual)\n",
    "df_raw['competition_open_since_month']  = df_raw.apply(lambda x: x['date'].month if pd.isna( x['competition_open_since_month'] )  else x['competition_open_since_month'], axis = 1)\n",
    "\n",
    "# competition_open_since_year\n",
    "df_raw['competition_open_since_year']  = df_raw.apply(lambda x: x['date'].year if pd.isna( x['competition_open_since_year'] )  else x['competition_open_since_year'], axis = 1)\n",
    "\n",
    "# promo2_since_week\n",
    "df_raw['promo2_since_week'] = df_raw.apply(lambda x: x['date'].week if pd.isna( x['promo2_since_week']) else x['promo2_since_week'], axis = 1)\n",
    "\n",
    "# promo2_since_year\n",
    "df_raw['promo2_since_year'] = df_raw.apply(lambda x: x['date'].year if pd.isna(x['promo2_since_year']) else x['promo2_since_year' ], axis = 1) \n",
    "\n",
    "# promo_interval\n",
    "month_map = {1: 'Jan', 2:'Feb', 3:'Mar', 4:'Apr', 5:'May', 6:'Jun', 7: 'Jul', 8: 'Aug', 9: 'Sept', 10: 'Oct', 11: 'Nov', 12: 'Dec'}\n",
    "df_raw['promo_interval'].fillna(0, inplace=True)\n",
    "df_raw['month_map'] = df_raw['date'].dt.month.map( month_map )\n",
    "df_raw['is_promo'] = df_raw.apply(lambda x: 0 if x['promo_interval'] == 0 else 1 if str( x['month_map'] ) in str( x['promo_interval']) else 0, axis=1)"
   ]
  },
  {
   "cell_type": "markdown",
   "id": "76320d04",
   "metadata": {},
   "source": [
    "## 2.6 CHANGE DTYPES"
   ]
  },
  {
   "cell_type": "code",
   "execution_count": 98,
   "id": "06ee1047",
   "metadata": {},
   "outputs": [],
   "source": [
    "# Transforming 'date' columns into datetime\n",
    "df_raw['date'] = pd.to_datetime( df_raw['date'] )\n",
    "\n",
    "# competition_open_since_month into int\n",
    "df_raw['competition_open_since_month'] = df_raw['competition_open_since_month'].astype( 'int64' )\n",
    "\n",
    "# competition_open_since_year into int\n",
    "df_raw['competition_open_since_year']  = df_raw['competition_open_since_year'].astype( 'int64' )\n",
    "\n",
    "# promo2_since_week into int\n",
    "df_raw['promo2_since_week'] = df_raw['promo2_since_week'].astype( 'int64' )\n",
    "\n",
    "# promo2_since_year into int\n",
    "df_raw['promo2_since_year'] = df_raw['promo2_since_year'].astype( 'int64' )"
   ]
  },
  {
   "cell_type": "markdown",
   "id": "a1d88a48",
   "metadata": {},
   "source": [
    "## 2.7 DESCRIPTIVE STATISTICS"
   ]
  },
  {
   "cell_type": "code",
   "execution_count": null,
   "id": "66c012f2",
   "metadata": {},
   "outputs": [],
   "source": []
  },
  {
   "cell_type": "code",
   "execution_count": null,
   "id": "872cc8f1",
   "metadata": {},
   "outputs": [],
   "source": []
  },
  {
   "cell_type": "code",
   "execution_count": null,
   "id": "47376d58",
   "metadata": {},
   "outputs": [],
   "source": []
  },
  {
   "cell_type": "code",
   "execution_count": null,
   "id": "841eaed8",
   "metadata": {},
   "outputs": [],
   "source": []
  },
  {
   "cell_type": "code",
   "execution_count": null,
   "id": "bf1dd4e8",
   "metadata": {},
   "outputs": [],
   "source": []
  },
  {
   "cell_type": "code",
   "execution_count": null,
   "id": "7d35fa9c",
   "metadata": {},
   "outputs": [],
   "source": []
  }
 ],
 "metadata": {
  "kernelspec": {
   "display_name": "Python 3 (ipykernel)",
   "language": "python",
   "name": "python3"
  },
  "language_info": {
   "codemirror_mode": {
    "name": "ipython",
    "version": 3
   },
   "file_extension": ".py",
   "mimetype": "text/x-python",
   "name": "python",
   "nbconvert_exporter": "python",
   "pygments_lexer": "ipython3",
   "version": "3.9.7"
  }
 },
 "nbformat": 4,
 "nbformat_minor": 5
}
